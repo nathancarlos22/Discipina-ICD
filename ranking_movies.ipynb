{
 "metadata": {
  "language_info": {
   "codemirror_mode": {
    "name": "ipython",
    "version": 3
   },
   "file_extension": ".py",
   "mimetype": "text/x-python",
   "name": "python",
   "nbconvert_exporter": "python",
   "pygments_lexer": "ipython3",
   "version": "3.8.1-final"
  },
  "orig_nbformat": 2,
  "kernelspec": {
   "name": "Python 3.8.1 64-bit",
   "display_name": "Python 3.8.1 64-bit",
   "metadata": {
    "interpreter": {
     "hash": "79784644a61667017857514a43f2cb4fda39a369b153f63b2cecfed4a60406b9"
    }
   }
  }
 },
 "nbformat": 4,
 "nbformat_minor": 2,
 "cells": [
  {
   "cell_type": "code",
   "execution_count": 145,
   "metadata": {},
   "outputs": [],
   "source": [
    "import pandas as pd\n",
    "import numpy as np\n",
    "import math"
   ]
  },
  {
   "cell_type": "code",
   "execution_count": 3,
   "metadata": {},
   "outputs": [],
   "source": [
    "ds = 'github/icd/datasets/movies.csv'"
   ]
  },
  {
   "cell_type": "code",
   "execution_count": 4,
   "metadata": {},
   "outputs": [
    {
     "output_type": "execute_result",
     "data": {
      "text/plain": [
       "                        Title    US Gross  Worldwide Gross  US DVD Sales  \\\n",
       "0              The Land Girls    146083.0         146083.0           NaN   \n",
       "1      First Love, Last Rites     10876.0          10876.0           NaN   \n",
       "2  I Married a Strange Person    203134.0         203134.0           NaN   \n",
       "3        Let's Talk About Sex    373615.0         373615.0           NaN   \n",
       "4                        Slam   1009819.0        1087521.0           NaN   \n",
       "5         Mississippi Mermaid     24551.0        2624551.0           NaN   \n",
       "6                   Following     44705.0          44705.0           NaN   \n",
       "7                     Foolish   6026908.0        6026908.0           NaN   \n",
       "8                     Pirates   1641825.0        6341825.0           NaN   \n",
       "9             Duel in the Sun  20400000.0       20400000.0           NaN   \n",
       "\n",
       "   Production Budget Release Date MPAA Rating  Running Time (min) Distributor  \\\n",
       "0          8000000.0    12-Jun-98           R                 NaN    Gramercy   \n",
       "1           300000.0     7-Aug-98           R                 NaN      Strand   \n",
       "2           250000.0    28-Aug-98         NaN                 NaN   Lionsgate   \n",
       "3           300000.0    11-Sep-98         NaN                 NaN   Fine Line   \n",
       "4          1000000.0     9-Oct-98           R                 NaN     Trimark   \n",
       "5          1600000.0    15-Jan-99         NaN                 NaN         MGM   \n",
       "6             6000.0     4-Apr-99           R                 NaN   Zeitgeist   \n",
       "7          1600000.0     9-Apr-99           R                 NaN     Artisan   \n",
       "8         40000000.0     1-Jul-86           R                 NaN         NaN   \n",
       "9          6000000.0    31-Dec-46         NaN                 NaN         NaN   \n",
       "\n",
       "                Source Major Genre         Creative Type           Director  \\\n",
       "0                  NaN         NaN                   NaN                NaN   \n",
       "1                  NaN       Drama                   NaN                NaN   \n",
       "2                  NaN      Comedy                   NaN                NaN   \n",
       "3                  NaN      Comedy                   NaN                NaN   \n",
       "4  Original Screenplay       Drama  Contemporary Fiction                NaN   \n",
       "5                  NaN         NaN                   NaN                NaN   \n",
       "6                  NaN         NaN                   NaN  Christopher Nolan   \n",
       "7  Original Screenplay      Comedy  Contemporary Fiction                NaN   \n",
       "8                  NaN         NaN                   NaN     Roman Polanski   \n",
       "9                  NaN         NaN                   NaN                NaN   \n",
       "\n",
       "   Rotten Tomatoes Rating  IMDB Rating  IMDB Votes  \n",
       "0                     NaN          6.1      1071.0  \n",
       "1                     NaN          6.9       207.0  \n",
       "2                     NaN          6.8       865.0  \n",
       "3                    13.0          NaN         NaN  \n",
       "4                    62.0          3.4       165.0  \n",
       "5                     NaN          NaN         NaN  \n",
       "6                     NaN          7.7     15133.0  \n",
       "7                     NaN          3.8       353.0  \n",
       "8                    25.0          5.8      3275.0  \n",
       "9                    86.0          7.0      2906.0  "
      ],
      "text/html": "<div>\n<style scoped>\n    .dataframe tbody tr th:only-of-type {\n        vertical-align: middle;\n    }\n\n    .dataframe tbody tr th {\n        vertical-align: top;\n    }\n\n    .dataframe thead th {\n        text-align: right;\n    }\n</style>\n<table border=\"1\" class=\"dataframe\">\n  <thead>\n    <tr style=\"text-align: right;\">\n      <th></th>\n      <th>Title</th>\n      <th>US Gross</th>\n      <th>Worldwide Gross</th>\n      <th>US DVD Sales</th>\n      <th>Production Budget</th>\n      <th>Release Date</th>\n      <th>MPAA Rating</th>\n      <th>Running Time (min)</th>\n      <th>Distributor</th>\n      <th>Source</th>\n      <th>Major Genre</th>\n      <th>Creative Type</th>\n      <th>Director</th>\n      <th>Rotten Tomatoes Rating</th>\n      <th>IMDB Rating</th>\n      <th>IMDB Votes</th>\n    </tr>\n  </thead>\n  <tbody>\n    <tr>\n      <th>0</th>\n      <td>The Land Girls</td>\n      <td>146083.0</td>\n      <td>146083.0</td>\n      <td>NaN</td>\n      <td>8000000.0</td>\n      <td>12-Jun-98</td>\n      <td>R</td>\n      <td>NaN</td>\n      <td>Gramercy</td>\n      <td>NaN</td>\n      <td>NaN</td>\n      <td>NaN</td>\n      <td>NaN</td>\n      <td>NaN</td>\n      <td>6.1</td>\n      <td>1071.0</td>\n    </tr>\n    <tr>\n      <th>1</th>\n      <td>First Love, Last Rites</td>\n      <td>10876.0</td>\n      <td>10876.0</td>\n      <td>NaN</td>\n      <td>300000.0</td>\n      <td>7-Aug-98</td>\n      <td>R</td>\n      <td>NaN</td>\n      <td>Strand</td>\n      <td>NaN</td>\n      <td>Drama</td>\n      <td>NaN</td>\n      <td>NaN</td>\n      <td>NaN</td>\n      <td>6.9</td>\n      <td>207.0</td>\n    </tr>\n    <tr>\n      <th>2</th>\n      <td>I Married a Strange Person</td>\n      <td>203134.0</td>\n      <td>203134.0</td>\n      <td>NaN</td>\n      <td>250000.0</td>\n      <td>28-Aug-98</td>\n      <td>NaN</td>\n      <td>NaN</td>\n      <td>Lionsgate</td>\n      <td>NaN</td>\n      <td>Comedy</td>\n      <td>NaN</td>\n      <td>NaN</td>\n      <td>NaN</td>\n      <td>6.8</td>\n      <td>865.0</td>\n    </tr>\n    <tr>\n      <th>3</th>\n      <td>Let's Talk About Sex</td>\n      <td>373615.0</td>\n      <td>373615.0</td>\n      <td>NaN</td>\n      <td>300000.0</td>\n      <td>11-Sep-98</td>\n      <td>NaN</td>\n      <td>NaN</td>\n      <td>Fine Line</td>\n      <td>NaN</td>\n      <td>Comedy</td>\n      <td>NaN</td>\n      <td>NaN</td>\n      <td>13.0</td>\n      <td>NaN</td>\n      <td>NaN</td>\n    </tr>\n    <tr>\n      <th>4</th>\n      <td>Slam</td>\n      <td>1009819.0</td>\n      <td>1087521.0</td>\n      <td>NaN</td>\n      <td>1000000.0</td>\n      <td>9-Oct-98</td>\n      <td>R</td>\n      <td>NaN</td>\n      <td>Trimark</td>\n      <td>Original Screenplay</td>\n      <td>Drama</td>\n      <td>Contemporary Fiction</td>\n      <td>NaN</td>\n      <td>62.0</td>\n      <td>3.4</td>\n      <td>165.0</td>\n    </tr>\n    <tr>\n      <th>5</th>\n      <td>Mississippi Mermaid</td>\n      <td>24551.0</td>\n      <td>2624551.0</td>\n      <td>NaN</td>\n      <td>1600000.0</td>\n      <td>15-Jan-99</td>\n      <td>NaN</td>\n      <td>NaN</td>\n      <td>MGM</td>\n      <td>NaN</td>\n      <td>NaN</td>\n      <td>NaN</td>\n      <td>NaN</td>\n      <td>NaN</td>\n      <td>NaN</td>\n      <td>NaN</td>\n    </tr>\n    <tr>\n      <th>6</th>\n      <td>Following</td>\n      <td>44705.0</td>\n      <td>44705.0</td>\n      <td>NaN</td>\n      <td>6000.0</td>\n      <td>4-Apr-99</td>\n      <td>R</td>\n      <td>NaN</td>\n      <td>Zeitgeist</td>\n      <td>NaN</td>\n      <td>NaN</td>\n      <td>NaN</td>\n      <td>Christopher Nolan</td>\n      <td>NaN</td>\n      <td>7.7</td>\n      <td>15133.0</td>\n    </tr>\n    <tr>\n      <th>7</th>\n      <td>Foolish</td>\n      <td>6026908.0</td>\n      <td>6026908.0</td>\n      <td>NaN</td>\n      <td>1600000.0</td>\n      <td>9-Apr-99</td>\n      <td>R</td>\n      <td>NaN</td>\n      <td>Artisan</td>\n      <td>Original Screenplay</td>\n      <td>Comedy</td>\n      <td>Contemporary Fiction</td>\n      <td>NaN</td>\n      <td>NaN</td>\n      <td>3.8</td>\n      <td>353.0</td>\n    </tr>\n    <tr>\n      <th>8</th>\n      <td>Pirates</td>\n      <td>1641825.0</td>\n      <td>6341825.0</td>\n      <td>NaN</td>\n      <td>40000000.0</td>\n      <td>1-Jul-86</td>\n      <td>R</td>\n      <td>NaN</td>\n      <td>NaN</td>\n      <td>NaN</td>\n      <td>NaN</td>\n      <td>NaN</td>\n      <td>Roman Polanski</td>\n      <td>25.0</td>\n      <td>5.8</td>\n      <td>3275.0</td>\n    </tr>\n    <tr>\n      <th>9</th>\n      <td>Duel in the Sun</td>\n      <td>20400000.0</td>\n      <td>20400000.0</td>\n      <td>NaN</td>\n      <td>6000000.0</td>\n      <td>31-Dec-46</td>\n      <td>NaN</td>\n      <td>NaN</td>\n      <td>NaN</td>\n      <td>NaN</td>\n      <td>NaN</td>\n      <td>NaN</td>\n      <td>NaN</td>\n      <td>86.0</td>\n      <td>7.0</td>\n      <td>2906.0</td>\n    </tr>\n  </tbody>\n</table>\n</div>"
     },
     "metadata": {},
     "execution_count": 4
    }
   ],
   "source": [
    "df = pd.read_csv(ds)\n",
    "df.head(10)"
   ]
  },
  {
   "cell_type": "code",
   "execution_count": 5,
   "metadata": {},
   "outputs": [
    {
     "output_type": "execute_result",
     "data": {
      "text/plain": [
       "                           Title    US Gross  Worldwide Gross  \\\n",
       "0                 The Land Girls    146083.0         146083.0   \n",
       "1         First Love, Last Rites     10876.0          10876.0   \n",
       "2     I Married a Strange Person    203134.0         203134.0   \n",
       "3           Let's Talk About Sex    373615.0         373615.0   \n",
       "4                           Slam   1009819.0        1087521.0   \n",
       "...                          ...         ...              ...   \n",
       "3196  Zack and Miri Make a Porno  31452765.0       36851125.0   \n",
       "3197                      Zodiac  33080084.0       83080084.0   \n",
       "3198                        Zoom  11989328.0       12506188.0   \n",
       "3199         The Legend of Zorro  45575336.0      141475336.0   \n",
       "3200           The Mask of Zorro  93828745.0      233700000.0   \n",
       "\n",
       "      Production Budget  Rotten Tomatoes Rating  IMDB Rating  IMDB Votes  \n",
       "0             8000000.0                     NaN          6.1      1071.0  \n",
       "1              300000.0                     NaN          6.9       207.0  \n",
       "2              250000.0                     NaN          6.8       865.0  \n",
       "3              300000.0                    13.0          NaN         NaN  \n",
       "4             1000000.0                    62.0          3.4       165.0  \n",
       "...                 ...                     ...          ...         ...  \n",
       "3196         24000000.0                    65.0          7.0     55687.0  \n",
       "3197         85000000.0                    89.0          NaN         NaN  \n",
       "3198         35000000.0                     3.0          3.4      7424.0  \n",
       "3199         80000000.0                    26.0          5.7     21161.0  \n",
       "3200         65000000.0                    82.0          6.7      4789.0  \n",
       "\n",
       "[3201 rows x 7 columns]"
      ],
      "text/html": "<div>\n<style scoped>\n    .dataframe tbody tr th:only-of-type {\n        vertical-align: middle;\n    }\n\n    .dataframe tbody tr th {\n        vertical-align: top;\n    }\n\n    .dataframe thead th {\n        text-align: right;\n    }\n</style>\n<table border=\"1\" class=\"dataframe\">\n  <thead>\n    <tr style=\"text-align: right;\">\n      <th></th>\n      <th>Title</th>\n      <th>US Gross</th>\n      <th>Worldwide Gross</th>\n      <th>Production Budget</th>\n      <th>Rotten Tomatoes Rating</th>\n      <th>IMDB Rating</th>\n      <th>IMDB Votes</th>\n    </tr>\n  </thead>\n  <tbody>\n    <tr>\n      <th>0</th>\n      <td>The Land Girls</td>\n      <td>146083.0</td>\n      <td>146083.0</td>\n      <td>8000000.0</td>\n      <td>NaN</td>\n      <td>6.1</td>\n      <td>1071.0</td>\n    </tr>\n    <tr>\n      <th>1</th>\n      <td>First Love, Last Rites</td>\n      <td>10876.0</td>\n      <td>10876.0</td>\n      <td>300000.0</td>\n      <td>NaN</td>\n      <td>6.9</td>\n      <td>207.0</td>\n    </tr>\n    <tr>\n      <th>2</th>\n      <td>I Married a Strange Person</td>\n      <td>203134.0</td>\n      <td>203134.0</td>\n      <td>250000.0</td>\n      <td>NaN</td>\n      <td>6.8</td>\n      <td>865.0</td>\n    </tr>\n    <tr>\n      <th>3</th>\n      <td>Let's Talk About Sex</td>\n      <td>373615.0</td>\n      <td>373615.0</td>\n      <td>300000.0</td>\n      <td>13.0</td>\n      <td>NaN</td>\n      <td>NaN</td>\n    </tr>\n    <tr>\n      <th>4</th>\n      <td>Slam</td>\n      <td>1009819.0</td>\n      <td>1087521.0</td>\n      <td>1000000.0</td>\n      <td>62.0</td>\n      <td>3.4</td>\n      <td>165.0</td>\n    </tr>\n    <tr>\n      <th>...</th>\n      <td>...</td>\n      <td>...</td>\n      <td>...</td>\n      <td>...</td>\n      <td>...</td>\n      <td>...</td>\n      <td>...</td>\n    </tr>\n    <tr>\n      <th>3196</th>\n      <td>Zack and Miri Make a Porno</td>\n      <td>31452765.0</td>\n      <td>36851125.0</td>\n      <td>24000000.0</td>\n      <td>65.0</td>\n      <td>7.0</td>\n      <td>55687.0</td>\n    </tr>\n    <tr>\n      <th>3197</th>\n      <td>Zodiac</td>\n      <td>33080084.0</td>\n      <td>83080084.0</td>\n      <td>85000000.0</td>\n      <td>89.0</td>\n      <td>NaN</td>\n      <td>NaN</td>\n    </tr>\n    <tr>\n      <th>3198</th>\n      <td>Zoom</td>\n      <td>11989328.0</td>\n      <td>12506188.0</td>\n      <td>35000000.0</td>\n      <td>3.0</td>\n      <td>3.4</td>\n      <td>7424.0</td>\n    </tr>\n    <tr>\n      <th>3199</th>\n      <td>The Legend of Zorro</td>\n      <td>45575336.0</td>\n      <td>141475336.0</td>\n      <td>80000000.0</td>\n      <td>26.0</td>\n      <td>5.7</td>\n      <td>21161.0</td>\n    </tr>\n    <tr>\n      <th>3200</th>\n      <td>The Mask of Zorro</td>\n      <td>93828745.0</td>\n      <td>233700000.0</td>\n      <td>65000000.0</td>\n      <td>82.0</td>\n      <td>6.7</td>\n      <td>4789.0</td>\n    </tr>\n  </tbody>\n</table>\n<p>3201 rows × 7 columns</p>\n</div>"
     },
     "metadata": {},
     "execution_count": 5
    }
   ],
   "source": [
    "# colunas desnecessaarias\n",
    "df = df.drop(columns=['Distributor', 'US DVD Sales', 'Running Time (min)', 'Source', 'Major Genre', 'Creative Type', 'Director', 'Release Date', 'MPAA Rating'])\n",
    "df"
   ]
  },
  {
   "cell_type": "code",
   "execution_count": 6,
   "metadata": {},
   "outputs": [],
   "source": [
    "# substituir a media no Rotten Tomatoes Rating\n",
    "na_Tomatoes = df['Rotten Tomatoes Rating'].isna()\n",
    "mean_Tomatoes  = df['Rotten Tomatoes Rating'].mean()\n",
    "df['Rotten Tomatoes Rating'][na_Tomatoes == True] = mean_Tomatoes"
   ]
  },
  {
   "cell_type": "code",
   "execution_count": 7,
   "metadata": {},
   "outputs": [],
   "source": [
    "# substituir a media no IMDB Rating\n",
    "na_IMDB = df['IMDB Rating'].isna()\n",
    "mean_IMDB  = df['IMDB Rating'].mean()\n",
    "df['IMDB Rating'][na_IMDB == True] = mean_IMDB"
   ]
  },
  {
   "cell_type": "code",
   "execution_count": 8,
   "metadata": {},
   "outputs": [],
   "source": [
    "# substituir a media no IMDB votes\n",
    "na_IMDB_votes = df['IMDB Votes'].isna()\n",
    "mean_IMDB_votes  = df['IMDB Votes'].mean()\n",
    "df['IMDB Votes'][na_IMDB_votes == True] = mean_IMDB_votes"
   ]
  },
  {
   "cell_type": "code",
   "execution_count": 9,
   "metadata": {},
   "outputs": [
    {
     "output_type": "execute_result",
     "data": {
      "text/plain": [
       "                           Title    US Gross  Worldwide Gross  \\\n",
       "0                 The Land Girls    146083.0         146083.0   \n",
       "1         First Love, Last Rites     10876.0          10876.0   \n",
       "2     I Married a Strange Person    203134.0         203134.0   \n",
       "3           Let's Talk About Sex    373615.0         373615.0   \n",
       "4                           Slam   1009819.0        1087521.0   \n",
       "...                          ...         ...              ...   \n",
       "3196  Zack and Miri Make a Porno  31452765.0       36851125.0   \n",
       "3197                      Zodiac  33080084.0       83080084.0   \n",
       "3198                        Zoom  11989328.0       12506188.0   \n",
       "3199         The Legend of Zorro  45575336.0      141475336.0   \n",
       "3200           The Mask of Zorro  93828745.0      233700000.0   \n",
       "\n",
       "      Production Budget  Rotten Tomatoes Rating  IMDB Rating    IMDB Votes  \n",
       "0             8000000.0               54.336924     6.100000   1071.000000  \n",
       "1              300000.0               54.336924     6.900000    207.000000  \n",
       "2              250000.0               54.336924     6.800000    865.000000  \n",
       "3              300000.0               13.000000     6.283467  29908.644578  \n",
       "4             1000000.0               62.000000     3.400000    165.000000  \n",
       "...                 ...                     ...          ...           ...  \n",
       "3196         24000000.0               65.000000     7.000000  55687.000000  \n",
       "3197         85000000.0               89.000000     6.283467  29908.644578  \n",
       "3198         35000000.0                3.000000     3.400000   7424.000000  \n",
       "3199         80000000.0               26.000000     5.700000  21161.000000  \n",
       "3200         65000000.0               82.000000     6.700000   4789.000000  \n",
       "\n",
       "[3201 rows x 7 columns]"
      ],
      "text/html": "<div>\n<style scoped>\n    .dataframe tbody tr th:only-of-type {\n        vertical-align: middle;\n    }\n\n    .dataframe tbody tr th {\n        vertical-align: top;\n    }\n\n    .dataframe thead th {\n        text-align: right;\n    }\n</style>\n<table border=\"1\" class=\"dataframe\">\n  <thead>\n    <tr style=\"text-align: right;\">\n      <th></th>\n      <th>Title</th>\n      <th>US Gross</th>\n      <th>Worldwide Gross</th>\n      <th>Production Budget</th>\n      <th>Rotten Tomatoes Rating</th>\n      <th>IMDB Rating</th>\n      <th>IMDB Votes</th>\n    </tr>\n  </thead>\n  <tbody>\n    <tr>\n      <th>0</th>\n      <td>The Land Girls</td>\n      <td>146083.0</td>\n      <td>146083.0</td>\n      <td>8000000.0</td>\n      <td>54.336924</td>\n      <td>6.100000</td>\n      <td>1071.000000</td>\n    </tr>\n    <tr>\n      <th>1</th>\n      <td>First Love, Last Rites</td>\n      <td>10876.0</td>\n      <td>10876.0</td>\n      <td>300000.0</td>\n      <td>54.336924</td>\n      <td>6.900000</td>\n      <td>207.000000</td>\n    </tr>\n    <tr>\n      <th>2</th>\n      <td>I Married a Strange Person</td>\n      <td>203134.0</td>\n      <td>203134.0</td>\n      <td>250000.0</td>\n      <td>54.336924</td>\n      <td>6.800000</td>\n      <td>865.000000</td>\n    </tr>\n    <tr>\n      <th>3</th>\n      <td>Let's Talk About Sex</td>\n      <td>373615.0</td>\n      <td>373615.0</td>\n      <td>300000.0</td>\n      <td>13.000000</td>\n      <td>6.283467</td>\n      <td>29908.644578</td>\n    </tr>\n    <tr>\n      <th>4</th>\n      <td>Slam</td>\n      <td>1009819.0</td>\n      <td>1087521.0</td>\n      <td>1000000.0</td>\n      <td>62.000000</td>\n      <td>3.400000</td>\n      <td>165.000000</td>\n    </tr>\n    <tr>\n      <th>...</th>\n      <td>...</td>\n      <td>...</td>\n      <td>...</td>\n      <td>...</td>\n      <td>...</td>\n      <td>...</td>\n      <td>...</td>\n    </tr>\n    <tr>\n      <th>3196</th>\n      <td>Zack and Miri Make a Porno</td>\n      <td>31452765.0</td>\n      <td>36851125.0</td>\n      <td>24000000.0</td>\n      <td>65.000000</td>\n      <td>7.000000</td>\n      <td>55687.000000</td>\n    </tr>\n    <tr>\n      <th>3197</th>\n      <td>Zodiac</td>\n      <td>33080084.0</td>\n      <td>83080084.0</td>\n      <td>85000000.0</td>\n      <td>89.000000</td>\n      <td>6.283467</td>\n      <td>29908.644578</td>\n    </tr>\n    <tr>\n      <th>3198</th>\n      <td>Zoom</td>\n      <td>11989328.0</td>\n      <td>12506188.0</td>\n      <td>35000000.0</td>\n      <td>3.000000</td>\n      <td>3.400000</td>\n      <td>7424.000000</td>\n    </tr>\n    <tr>\n      <th>3199</th>\n      <td>The Legend of Zorro</td>\n      <td>45575336.0</td>\n      <td>141475336.0</td>\n      <td>80000000.0</td>\n      <td>26.000000</td>\n      <td>5.700000</td>\n      <td>21161.000000</td>\n    </tr>\n    <tr>\n      <th>3200</th>\n      <td>The Mask of Zorro</td>\n      <td>93828745.0</td>\n      <td>233700000.0</td>\n      <td>65000000.0</td>\n      <td>82.000000</td>\n      <td>6.700000</td>\n      <td>4789.000000</td>\n    </tr>\n  </tbody>\n</table>\n<p>3201 rows × 7 columns</p>\n</div>"
     },
     "metadata": {},
     "execution_count": 9
    }
   ],
   "source": [
    "df"
   ]
  },
  {
   "cell_type": "code",
   "execution_count": 111,
   "metadata": {},
   "outputs": [],
   "source": [
    "def logit(x, c=0.4):\n",
    "    try:\n",
    "        ans = 1/(1+math.exp(-c*x))\n",
    "    except OverflowError:\n",
    "        ans = float('inf')\n",
    "    \n",
    "    return ans"
   ]
  },
  {
   "cell_type": "code",
   "execution_count": 11,
   "metadata": {},
   "outputs": [],
   "source": [
    "def prob(a, b):\n",
    "    return logit(a-b)"
   ]
  },
  {
   "cell_type": "code",
   "execution_count": 12,
   "metadata": {},
   "outputs": [],
   "source": [
    "def mi(a, b):\n",
    "    return 1*prob(a,b) + ((-1)*(1-prob(a,b)))"
   ]
  },
  {
   "cell_type": "code",
   "execution_count": 13,
   "metadata": {},
   "outputs": [],
   "source": [
    "def update_ranking(a, b, result, k):\n",
    "    return a + k*(result-mi(a,b))"
   ]
  },
  {
   "cell_type": "code",
   "execution_count": 161,
   "metadata": {},
   "outputs": [],
   "source": [
    "def score():\n",
    "    att = []\n",
    "    att2 = []\n",
    "    result = -1\n",
    "\n",
    "    # qualidade = nota no imdb\n",
    "    a = df['IMDB Rating'].values.tolist()\n",
    "    b = df['IMDB Rating'].values.tolist()\n",
    "\n",
    "    for i in range(len(a)):\n",
    "        for j in range(len(a)):\n",
    "            k = a[i] + b[j] # tamanho da atualização\n",
    "\n",
    "            if a[i] > b[j]: # vitoria\n",
    "                result = 1\n",
    "\n",
    "            att.append(update_ranking(a[i],b[j],result,k)) \n",
    "        att2.append(np.array(att).mean())\n",
    "        att = []\n",
    "    return att2"
   ]
  },
  {
   "cell_type": "code",
   "execution_count": 162,
   "metadata": {
    "tags": []
   },
   "outputs": [
    {
     "output_type": "execute_result",
     "data": {
      "text/plain": [
       "(3201,)"
      ]
     },
     "metadata": {},
     "execution_count": 162
    }
   ],
   "source": [
    "z = np.array(score())\n",
    "z.shape"
   ]
  },
  {
   "cell_type": "code",
   "execution_count": 163,
   "metadata": {},
   "outputs": [
    {
     "output_type": "execute_result",
     "data": {
      "text/plain": [
       "array([19.18953464, 18.84704473, 18.90606138, ..., 18.15369458,\n",
       "       19.30917683, 18.96193838])"
      ]
     },
     "metadata": {},
     "execution_count": 163
    }
   ],
   "source": [
    "z"
   ]
  },
  {
   "cell_type": "code",
   "execution_count": 164,
   "metadata": {},
   "outputs": [
    {
     "output_type": "execute_result",
     "data": {
      "text/plain": [
       "                               0\n",
       "0                 The Land Girls\n",
       "1         First Love, Last Rites\n",
       "2     I Married a Strange Person\n",
       "3           Let's Talk About Sex\n",
       "4                           Slam\n",
       "...                          ...\n",
       "3196  Zack and Miri Make a Porno\n",
       "3197                      Zodiac\n",
       "3198                        Zoom\n",
       "3199         The Legend of Zorro\n",
       "3200           The Mask of Zorro\n",
       "\n",
       "[3201 rows x 1 columns]"
      ],
      "text/html": "<div>\n<style scoped>\n    .dataframe tbody tr th:only-of-type {\n        vertical-align: middle;\n    }\n\n    .dataframe tbody tr th {\n        vertical-align: top;\n    }\n\n    .dataframe thead th {\n        text-align: right;\n    }\n</style>\n<table border=\"1\" class=\"dataframe\">\n  <thead>\n    <tr style=\"text-align: right;\">\n      <th></th>\n      <th>0</th>\n    </tr>\n  </thead>\n  <tbody>\n    <tr>\n      <th>0</th>\n      <td>The Land Girls</td>\n    </tr>\n    <tr>\n      <th>1</th>\n      <td>First Love, Last Rites</td>\n    </tr>\n    <tr>\n      <th>2</th>\n      <td>I Married a Strange Person</td>\n    </tr>\n    <tr>\n      <th>3</th>\n      <td>Let's Talk About Sex</td>\n    </tr>\n    <tr>\n      <th>4</th>\n      <td>Slam</td>\n    </tr>\n    <tr>\n      <th>...</th>\n      <td>...</td>\n    </tr>\n    <tr>\n      <th>3196</th>\n      <td>Zack and Miri Make a Porno</td>\n    </tr>\n    <tr>\n      <th>3197</th>\n      <td>Zodiac</td>\n    </tr>\n    <tr>\n      <th>3198</th>\n      <td>Zoom</td>\n    </tr>\n    <tr>\n      <th>3199</th>\n      <td>The Legend of Zorro</td>\n    </tr>\n    <tr>\n      <th>3200</th>\n      <td>The Mask of Zorro</td>\n    </tr>\n  </tbody>\n</table>\n<p>3201 rows × 1 columns</p>\n</div>"
     },
     "metadata": {},
     "execution_count": 164
    }
   ],
   "source": [
    "ranking = pd.DataFrame(data=df['Title'].values.tolist())\n",
    "ranking"
   ]
  },
  {
   "cell_type": "code",
   "execution_count": 165,
   "metadata": {},
   "outputs": [],
   "source": [
    "ranking['ranking'] = z"
   ]
  },
  {
   "cell_type": "code",
   "execution_count": 166,
   "metadata": {},
   "outputs": [
    {
     "output_type": "execute_result",
     "data": {
      "text/plain": [
       "                               0    ranking\n",
       "0                 The Land Girls  19.189535\n",
       "1         First Love, Last Rites  18.847045\n",
       "2     I Married a Strange Person  18.906061\n",
       "3           Let's Talk About Sex  19.156837\n",
       "4                           Slam  18.153695\n",
       "...                          ...        ...\n",
       "3196  Zack and Miri Make a Porno  18.785080\n",
       "3197                      Zodiac  19.156837\n",
       "3198                        Zoom  18.153695\n",
       "3199         The Legend of Zorro  19.309177\n",
       "3200           The Mask of Zorro  18.961938\n",
       "\n",
       "[3201 rows x 2 columns]"
      ],
      "text/html": "<div>\n<style scoped>\n    .dataframe tbody tr th:only-of-type {\n        vertical-align: middle;\n    }\n\n    .dataframe tbody tr th {\n        vertical-align: top;\n    }\n\n    .dataframe thead th {\n        text-align: right;\n    }\n</style>\n<table border=\"1\" class=\"dataframe\">\n  <thead>\n    <tr style=\"text-align: right;\">\n      <th></th>\n      <th>0</th>\n      <th>ranking</th>\n    </tr>\n  </thead>\n  <tbody>\n    <tr>\n      <th>0</th>\n      <td>The Land Girls</td>\n      <td>19.189535</td>\n    </tr>\n    <tr>\n      <th>1</th>\n      <td>First Love, Last Rites</td>\n      <td>18.847045</td>\n    </tr>\n    <tr>\n      <th>2</th>\n      <td>I Married a Strange Person</td>\n      <td>18.906061</td>\n    </tr>\n    <tr>\n      <th>3</th>\n      <td>Let's Talk About Sex</td>\n      <td>19.156837</td>\n    </tr>\n    <tr>\n      <th>4</th>\n      <td>Slam</td>\n      <td>18.153695</td>\n    </tr>\n    <tr>\n      <th>...</th>\n      <td>...</td>\n      <td>...</td>\n    </tr>\n    <tr>\n      <th>3196</th>\n      <td>Zack and Miri Make a Porno</td>\n      <td>18.785080</td>\n    </tr>\n    <tr>\n      <th>3197</th>\n      <td>Zodiac</td>\n      <td>19.156837</td>\n    </tr>\n    <tr>\n      <th>3198</th>\n      <td>Zoom</td>\n      <td>18.153695</td>\n    </tr>\n    <tr>\n      <th>3199</th>\n      <td>The Legend of Zorro</td>\n      <td>19.309177</td>\n    </tr>\n    <tr>\n      <th>3200</th>\n      <td>The Mask of Zorro</td>\n      <td>18.961938</td>\n    </tr>\n  </tbody>\n</table>\n<p>3201 rows × 2 columns</p>\n</div>"
     },
     "metadata": {},
     "execution_count": 166
    }
   ],
   "source": [
    "ranking"
   ]
  },
  {
   "cell_type": "code",
   "execution_count": 167,
   "metadata": {},
   "outputs": [
    {
     "output_type": "execute_result",
     "data": {
      "text/plain": [
       "                                  0    ranking\n",
       "1830                       G.I.Jane  19.324360\n",
       "3005                            xXx  19.324360\n",
       "1540                 Daddy Day Care  19.324360\n",
       "319          Friday the 13th Part 2  19.324360\n",
       "1209                 The Art of War  19.324360\n",
       "...                             ...        ...\n",
       "1590                 Disaster Movie  15.464822\n",
       "1515                      Crossover  15.464822\n",
       "1754           From Justin to Kelly  15.266132\n",
       "406            The Helix...  Loaded  15.063578\n",
       "1247  Super Babies: Baby Geniuses 2  14.857267\n",
       "\n",
       "[3201 rows x 2 columns]"
      ],
      "text/html": "<div>\n<style scoped>\n    .dataframe tbody tr th:only-of-type {\n        vertical-align: middle;\n    }\n\n    .dataframe tbody tr th {\n        vertical-align: top;\n    }\n\n    .dataframe thead th {\n        text-align: right;\n    }\n</style>\n<table border=\"1\" class=\"dataframe\">\n  <thead>\n    <tr style=\"text-align: right;\">\n      <th></th>\n      <th>0</th>\n      <th>ranking</th>\n    </tr>\n  </thead>\n  <tbody>\n    <tr>\n      <th>1830</th>\n      <td>G.I.Jane</td>\n      <td>19.324360</td>\n    </tr>\n    <tr>\n      <th>3005</th>\n      <td>xXx</td>\n      <td>19.324360</td>\n    </tr>\n    <tr>\n      <th>1540</th>\n      <td>Daddy Day Care</td>\n      <td>19.324360</td>\n    </tr>\n    <tr>\n      <th>319</th>\n      <td>Friday the 13th Part 2</td>\n      <td>19.324360</td>\n    </tr>\n    <tr>\n      <th>1209</th>\n      <td>The Art of War</td>\n      <td>19.324360</td>\n    </tr>\n    <tr>\n      <th>...</th>\n      <td>...</td>\n      <td>...</td>\n    </tr>\n    <tr>\n      <th>1590</th>\n      <td>Disaster Movie</td>\n      <td>15.464822</td>\n    </tr>\n    <tr>\n      <th>1515</th>\n      <td>Crossover</td>\n      <td>15.464822</td>\n    </tr>\n    <tr>\n      <th>1754</th>\n      <td>From Justin to Kelly</td>\n      <td>15.266132</td>\n    </tr>\n    <tr>\n      <th>406</th>\n      <td>The Helix...  Loaded</td>\n      <td>15.063578</td>\n    </tr>\n    <tr>\n      <th>1247</th>\n      <td>Super Babies: Baby Geniuses 2</td>\n      <td>14.857267</td>\n    </tr>\n  </tbody>\n</table>\n<p>3201 rows × 2 columns</p>\n</div>"
     },
     "metadata": {},
     "execution_count": 167
    }
   ],
   "source": [
    "ranking.sort_values(by=['ranking'], ascending=False)"
   ]
  },
  {
   "cell_type": "code",
   "execution_count": null,
   "metadata": {},
   "outputs": [],
   "source": []
  }
 ]
}