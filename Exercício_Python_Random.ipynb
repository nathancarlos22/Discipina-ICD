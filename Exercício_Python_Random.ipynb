{
  "nbformat": 4,
  "nbformat_minor": 0,
  "metadata": {
    "kernelspec": {
      "display_name": "icd",
      "language": "python",
      "name": "icd"
    },
    "language_info": {
      "codemirror_mode": {
        "name": "ipython",
        "version": 3
      },
      "file_extension": ".py",
      "mimetype": "text/x-python",
      "name": "python",
      "nbconvert_exporter": "python",
      "pygments_lexer": "ipython3",
      "version": "3.7.7"
    },
    "colab": {
      "name": "Exercício - Python - Random.ipynb",
      "provenance": []
    }
  },
  "cells": [
    {
      "cell_type": "markdown",
      "metadata": {
        "id": "ZaieZ62rJKNx",
        "colab_type": "text"
      },
      "source": [
        "# Introdução à Ciência de Dados - UFPB\n",
        "Professor: Yuri Malheiros\n",
        "\n",
        "## Python - Random - Exercício"
      ]
    },
    {
      "cell_type": "markdown",
      "metadata": {
        "id": "OhsSy9LFJKNz",
        "colab_type": "text"
      },
      "source": [
        "Implemente a função `generate_password` que deve gerar uma senha aleatória.\n",
        "\n",
        "A função tem tres parâmetros:\n",
        "\n",
        "- `n_chars` especifica o tamanho da senha gerada\n",
        "- `use_numbers` especifica se números podem ser usados na senha. Por padrão, esse parâmetro tem valor True\n",
        "- `use_special_chars` especifica se caracteres especiais, por exemplo !#%&@?, pode ser usados na senha. Por padrão, esse parâmetro tem valor True\n",
        "\n",
        "Note que se `use_numbers` e `use_special_chars` tiverem valor False, a senha terá apenas letras maiúsculas ou minúsculas."
      ]
    },
    {
      "cell_type": "code",
      "metadata": {
        "id": "e9LwilzAJKN0",
        "colab_type": "code",
        "colab": {}
      },
      "source": [
        "import string\n",
        "import random\n",
        "\n",
        "def generate_password(n_chars, use_numbers=True, use_special_chars=True):\n",
        "    password = [] # define tamanho da string\n",
        "    for i in range(n_chars):\n",
        "      password.append(i)\n",
        "\n",
        "    position = random.sample(range(0,n_chars), n_chars) # posição de cada letra aleatoriamente\n",
        "\n",
        "    # alfabeto maiusculo ou minusculo\n",
        "    letras = \"abcdefghijklmnopqrstuvwxyzABCDEFGHIJKLMNOPQRSTUVWXYZ\"\n",
        "\n",
        "    if use_numbers: # numeros + alfabeto\n",
        "      letras = \"0123456789abcdefghijklmnopqrstuvwxyzABCDEFGHIJKLMNOPQRSTUVWXYZ\"\n",
        "    if use_special_chars: # caracteres + alfabeto\n",
        "      letras = \"'!@#$%¨&*()_+-=}],.;/~´[<>:?^`{\\|/*-+.abcdefghijklmnopqrstuvwxyzABCDEFGHIJKLMNOPQRSTUVWXYZ\"\n",
        "    if use_numbers == True and use_special_chars == True: # ambos\n",
        "      letras = \"0123456789'!@#$%¨&*()_+-=}],.;/~´[<>:?^`{\\|/*-+.abcdefghijklmnopqrstuvwxyzABCDEFGHIJKLMNOPQRSTUVWXYZ\"\n",
        "\n",
        "    for i in range(n_chars):\n",
        "      letra = random.choice(letras) # escolhe aleatoriamente\n",
        "\n",
        "      password[position[i]] = letra # senha vai ser igual a posição aleatória\n",
        "\n",
        "    # juntando a senha\n",
        "    separator = \"\"\n",
        "    password = separator.join(password)\n",
        "\n",
        "\n",
        "    return password"
      ],
      "execution_count": 20,
      "outputs": []
    },
    {
      "cell_type": "code",
      "metadata": {
        "id": "7AOoGMU3JKN7",
        "colab_type": "code",
        "colab": {
          "base_uri": "https://localhost:8080/",
          "height": 68
        },
        "outputId": "0e07dc5e-3c41-449b-b70a-24e4b921f389"
      },
      "source": [
        "print(generate_password(10))\n",
        "print(generate_password(10, use_numbers=False))\n",
        "print(generate_password(10, use_numbers=False, use_special_chars=False))"
      ],
      "execution_count": 49,
      "outputs": [
        {
          "output_type": "stream",
          "text": [
            "tO<`]'=^Z,\n",
            "jm´:SYHHMV\n",
            "vlpigJAvSh\n"
          ],
          "name": "stdout"
        }
      ]
    },
    {
      "cell_type": "code",
      "metadata": {
        "id": "95XdcPUPS9tk",
        "colab_type": "code",
        "colab": {}
      },
      "source": [
        ""
      ],
      "execution_count": 38,
      "outputs": []
    }
  ]
}