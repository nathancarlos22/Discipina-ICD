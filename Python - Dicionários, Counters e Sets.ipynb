{
 "cells": [
  {
   "cell_type": "markdown",
   "metadata": {},
   "source": [
    "# Introdução à Ciência de Dados - UFPB\n",
    "Professor: Yuri Malheiros\n",
    "\n",
    "## Python - Dicionários, Counters e Sets"
   ]
  },
  {
   "cell_type": "markdown",
   "metadata": {},
   "source": [
    "### Dicionários"
   ]
  },
  {
   "cell_type": "markdown",
   "metadata": {},
   "source": [
    "Dicionários são estruturas que associam chaves a valores. Esses valores podem ser acessados rapidamente através da sua chave"
   ]
  },
  {
   "cell_type": "markdown",
   "metadata": {},
   "source": [
    "Criando um dicionário:"
   ]
  },
  {
   "cell_type": "code",
   "execution_count": 1,
   "metadata": {},
   "outputs": [],
   "source": [
    "grades = {\"João\": 9, \"Maria\": 10}"
   ]
  },
  {
   "cell_type": "markdown",
   "metadata": {},
   "source": [
    "Acessando um valor através de sua chave:"
   ]
  },
  {
   "cell_type": "code",
   "execution_count": 2,
   "metadata": {},
   "outputs": [
    {
     "data": {
      "text/plain": [
       "9"
      ]
     },
     "execution_count": 2,
     "metadata": {},
     "output_type": "execute_result"
    }
   ],
   "source": [
    "grades[\"João\"]"
   ]
  },
  {
   "cell_type": "markdown",
   "metadata": {},
   "source": [
    "Erro se uma chave não existir:"
   ]
  },
  {
   "cell_type": "code",
   "execution_count": 3,
   "metadata": {},
   "outputs": [
    {
     "ename": "KeyError",
     "evalue": "'Pedro'",
     "output_type": "error",
     "traceback": [
      "\u001b[0;31m---------------------------------------------------------------------------\u001b[0m",
      "\u001b[0;31mKeyError\u001b[0m                                  Traceback (most recent call last)",
      "\u001b[0;32m<ipython-input-3-07933df3c1fa>\u001b[0m in \u001b[0;36m<module>\u001b[0;34m\u001b[0m\n\u001b[0;32m----> 1\u001b[0;31m \u001b[0mgrades\u001b[0m\u001b[0;34m[\u001b[0m\u001b[0;34m\"Pedro\"\u001b[0m\u001b[0;34m]\u001b[0m\u001b[0;34m\u001b[0m\u001b[0;34m\u001b[0m\u001b[0m\n\u001b[0m",
      "\u001b[0;31mKeyError\u001b[0m: 'Pedro'"
     ]
    }
   ],
   "source": [
    "grades[\"Pedro\"]"
   ]
  },
  {
   "cell_type": "markdown",
   "metadata": {},
   "source": [
    "Podemos tratar o erro capturando a exceção lançada:"
   ]
  },
  {
   "cell_type": "code",
   "execution_count": 4,
   "metadata": {},
   "outputs": [
    {
     "name": "stdout",
     "output_type": "stream",
     "text": [
      "Pedro não fez a prova\n"
     ]
    }
   ],
   "source": [
    "try:\n",
    "    print(grades[\"Pedro\"])\n",
    "except KeyError:\n",
    "    print(\"Pedro não fez a prova\")"
   ]
  },
  {
   "cell_type": "markdown",
   "metadata": {},
   "source": [
    "Usando o operador `in` checamos a existência de uma chave:"
   ]
  },
  {
   "cell_type": "code",
   "execution_count": 5,
   "metadata": {},
   "outputs": [
    {
     "data": {
      "text/plain": [
       "True"
      ]
     },
     "execution_count": 5,
     "metadata": {},
     "output_type": "execute_result"
    }
   ],
   "source": [
    "\"João\" in grades"
   ]
  },
  {
   "cell_type": "code",
   "execution_count": 6,
   "metadata": {},
   "outputs": [
    {
     "data": {
      "text/plain": [
       "False"
      ]
     },
     "execution_count": 6,
     "metadata": {},
     "output_type": "execute_result"
    }
   ],
   "source": [
    "\"Pedro\" in grades"
   ]
  },
  {
   "cell_type": "markdown",
   "metadata": {},
   "source": [
    "Podemos usar o método `.get()` para especificar um valor default quando a chave não existir:"
   ]
  },
  {
   "cell_type": "code",
   "execution_count": 7,
   "metadata": {},
   "outputs": [
    {
     "data": {
      "text/plain": [
       "0"
      ]
     },
     "execution_count": 7,
     "metadata": {},
     "output_type": "execute_result"
    }
   ],
   "source": [
    "grades.get(\"Pedro\", 0)"
   ]
  },
  {
   "cell_type": "code",
   "execution_count": 8,
   "metadata": {},
   "outputs": [
    {
     "data": {
      "text/plain": [
       "9"
      ]
     },
     "execution_count": 8,
     "metadata": {},
     "output_type": "execute_result"
    }
   ],
   "source": [
    "grades.get(\"João\", 0)"
   ]
  },
  {
   "cell_type": "markdown",
   "metadata": {},
   "source": [
    "Usando os métodos `.keys()` e `.values()` obtemos apenas as chaves e os valores de um dicionário respectivamente:"
   ]
  },
  {
   "cell_type": "code",
   "execution_count": 9,
   "metadata": {},
   "outputs": [
    {
     "data": {
      "text/plain": [
       "dict_keys(['João', 'Maria'])"
      ]
     },
     "execution_count": 9,
     "metadata": {},
     "output_type": "execute_result"
    }
   ],
   "source": [
    "grades.keys()"
   ]
  },
  {
   "cell_type": "code",
   "execution_count": 10,
   "metadata": {},
   "outputs": [
    {
     "data": {
      "text/plain": [
       "dict_values([9, 10])"
      ]
     },
     "execution_count": 10,
     "metadata": {},
     "output_type": "execute_result"
    }
   ],
   "source": [
    "grades.values()"
   ]
  },
  {
   "cell_type": "markdown",
   "metadata": {},
   "source": [
    "Ou podemos obter ambos em uma estrutura iterável:"
   ]
  },
  {
   "cell_type": "code",
   "execution_count": 11,
   "metadata": {},
   "outputs": [
    {
     "data": {
      "text/plain": [
       "dict_items([('João', 9), ('Maria', 10)])"
      ]
     },
     "execution_count": 11,
     "metadata": {},
     "output_type": "execute_result"
    }
   ],
   "source": [
    "grades.items()"
   ]
  },
  {
   "cell_type": "markdown",
   "metadata": {},
   "source": [
    "### Counters"
   ]
  },
  {
   "cell_type": "markdown",
   "metadata": {},
   "source": [
    "Um uso comum para dicionários é criar uma estrutura onde as chaves representam um elemento e os valores representam a quantidade de vezes que aquele elemento apareceu."
   ]
  },
  {
   "cell_type": "markdown",
   "metadata": {},
   "source": [
    "Abaixo eu tenho uma lista com todos os campeões do campeonato brasileiro de futebol:"
   ]
  },
  {
   "cell_type": "code",
   "execution_count": 12,
   "metadata": {},
   "outputs": [],
   "source": [
    "champions = [\"Bahia\", \"Palmeiras\", \"Santos\", \"Santos\", \"Santos\",\n",
    "             \"Santos\", \"Santos\", \"Cruzeiro\", \"Palmeiras\", \"Palmeiras\",\n",
    "             \"Botafogo\", \"Santos\", \"Palmeiras\", \"Fluminense\",\n",
    "             \"Atlético Mineiro\", \"Palmeiras\", \"Palmeiras\",\n",
    "             \"Vasco da Gama\", \"Internacional\", \"Internacional\",\n",
    "             \"São Paulo\", \"Guarani\", \"Internacional\", \"Flamengo\",\n",
    "             \"Grêmio\", \"Flamengo\", \"Flamengo\", \"Fluminense\",\n",
    "             \"Coritiba\", \"São Paulo\", \"Flamengo\", \"Sport\", \"Bahia\",\n",
    "             \"Vasco da Gama\", \"Corinthians\", \"São Paulo\", \"Flamengo\",\n",
    "             \"Palmeiras\", \"Palmeiras\", \"Botafogo\", \"Grêmio\",\n",
    "             \"Vasco da Gama\", \"Corinthians\", \"Corinthians\",\n",
    "             \"Vasco da Gama\", \"Atlético Paranaense\", \"Santos\",\n",
    "             \"Cruzeiro\", \"Santos\", \"Corinthians\", \"São Paulo\",\n",
    "             \"São Paulo\", \"São Paulo\", \"Flamengo\", \"Fluminense\",\n",
    "             \"Corinthians\", \"Fluminense\", \"Cruzeiro\", \"Cruzeiro\",\n",
    "             \"Corinthians\", \"Palmeiras\", \"Corinthians\", \"Palmeiras\",\n",
    "             \"Flamengo\"]"
   ]
  },
  {
   "cell_type": "markdown",
   "metadata": {},
   "source": [
    "Quantas vezes cada time ganhou?"
   ]
  },
  {
   "cell_type": "code",
   "execution_count": 13,
   "metadata": {},
   "outputs": [],
   "source": [
    "from collections import Counter\n",
    "\n",
    "champions_counter = Counter(champions)"
   ]
  },
  {
   "cell_type": "code",
   "execution_count": 14,
   "metadata": {},
   "outputs": [
    {
     "data": {
      "text/plain": [
       "Counter({'Bahia': 2,\n",
       "         'Palmeiras': 10,\n",
       "         'Santos': 8,\n",
       "         'Cruzeiro': 4,\n",
       "         'Botafogo': 2,\n",
       "         'Fluminense': 4,\n",
       "         'Atlético Mineiro': 1,\n",
       "         'Vasco da Gama': 4,\n",
       "         'Internacional': 3,\n",
       "         'São Paulo': 6,\n",
       "         'Guarani': 1,\n",
       "         'Flamengo': 7,\n",
       "         'Grêmio': 2,\n",
       "         'Coritiba': 1,\n",
       "         'Sport': 1,\n",
       "         'Corinthians': 7,\n",
       "         'Atlético Paranaense': 1})"
      ]
     },
     "execution_count": 14,
     "metadata": {},
     "output_type": "execute_result"
    }
   ],
   "source": [
    "champions_counter"
   ]
  },
  {
   "cell_type": "markdown",
   "metadata": {},
   "source": [
    "Usamos o método `.most_common()` para obter um ranking com os elementos com maiores contagens:"
   ]
  },
  {
   "cell_type": "code",
   "execution_count": 15,
   "metadata": {},
   "outputs": [
    {
     "data": {
      "text/plain": [
       "[('Palmeiras', 10),\n",
       " ('Santos', 8),\n",
       " ('Flamengo', 7),\n",
       " ('Corinthians', 7),\n",
       " ('São Paulo', 6)]"
      ]
     },
     "execution_count": 15,
     "metadata": {},
     "output_type": "execute_result"
    }
   ],
   "source": [
    "champions_counter.most_common(5)"
   ]
  },
  {
   "cell_type": "markdown",
   "metadata": {},
   "source": [
    "### Sets"
   ]
  },
  {
   "cell_type": "markdown",
   "metadata": {},
   "source": [
    "Um set (ou conjunto) é uma estrutura de dados que representa uma coleção de elementos distintos."
   ]
  },
  {
   "cell_type": "code",
   "execution_count": 16,
   "metadata": {},
   "outputs": [
    {
     "data": {
      "text/plain": [
       "{1, 3, 5, 7}"
      ]
     },
     "execution_count": 16,
     "metadata": {},
     "output_type": "execute_result"
    }
   ],
   "source": [
    "numbers = {1, 3, 5, 7}\n",
    "numbers"
   ]
  },
  {
   "cell_type": "code",
   "execution_count": 17,
   "metadata": {},
   "outputs": [
    {
     "data": {
      "text/plain": [
       "{1, 3, 5, 7}"
      ]
     },
     "execution_count": 17,
     "metadata": {},
     "output_type": "execute_result"
    }
   ],
   "source": [
    "numbers = {1, 1, 3, 3, 3, 5, 7, 7}\n",
    "numbers"
   ]
  },
  {
   "cell_type": "markdown",
   "metadata": {},
   "source": [
    "A operação para checar se um elemento pertence a um conjunto é muito mais rápido que em uma lista:"
   ]
  },
  {
   "cell_type": "code",
   "execution_count": 18,
   "metadata": {},
   "outputs": [],
   "source": [
    "big_list = list(range(10000000))"
   ]
  },
  {
   "cell_type": "code",
   "execution_count": 19,
   "metadata": {},
   "outputs": [
    {
     "name": "stdout",
     "output_type": "stream",
     "text": [
      "CPU times: user 19.8 ms, sys: 447 µs, total: 20.2 ms\n",
      "Wall time: 24.2 ms\n"
     ]
    },
    {
     "data": {
      "text/plain": [
       "True"
      ]
     },
     "execution_count": 19,
     "metadata": {},
     "output_type": "execute_result"
    }
   ],
   "source": [
    "%time 999999 in big_list"
   ]
  },
  {
   "cell_type": "code",
   "execution_count": 20,
   "metadata": {},
   "outputs": [],
   "source": [
    "big_set = set(range(10000000))"
   ]
  },
  {
   "cell_type": "code",
   "execution_count": 21,
   "metadata": {},
   "outputs": [
    {
     "name": "stdout",
     "output_type": "stream",
     "text": [
      "CPU times: user 5 µs, sys: 1 µs, total: 6 µs\n",
      "Wall time: 10 µs\n"
     ]
    },
    {
     "data": {
      "text/plain": [
       "True"
      ]
     },
     "execution_count": 21,
     "metadata": {},
     "output_type": "execute_result"
    }
   ],
   "source": [
    "%time 999999 in big_set"
   ]
  },
  {
   "cell_type": "markdown",
   "metadata": {},
   "source": [
    "Operações de conjuntos como união, interseção, contido e contém são todas suportadas pelos Sets."
   ]
  },
  {
   "cell_type": "markdown",
   "metadata": {},
   "source": [
    "Abaixo temos a lista com os campeões da Copa do Brasil. Com o auxílio dos Sets, podemos responder a pergunta: que times venceram o Campeonato Brasileiro e a Copa do Brasil?"
   ]
  },
  {
   "cell_type": "code",
   "execution_count": 22,
   "metadata": {},
   "outputs": [],
   "source": [
    "cup_champions = [\"Grêmio\", \"Flamengo\", \"Criciúma\", \"Internacional\",\n",
    "                 \"Cruzeiro\", \"Grêmio\", \"Corinthians\", \"Cruzeiro\",\n",
    "                 \"Grêmio\", \"Palmeiras\", \"Juventude\", \"Cruzeiro\", \n",
    "                 \"Grêmio\", \"Corinthians\", \"Cruzeiro\", \"Santo André\", \n",
    "                 \"Paulista\", \"Flamengo\", \"Fluminense\", \"Sport\", \n",
    "                 \"Corinthians\", \"Santos\", \"Vasco da Gama\", \n",
    "                 \"Palmeiras\", \"Flamengo\", \"Atlético Mineiro\", \n",
    "                 \"Palmeiras\", \"Grêmio\", \"Cruzeiro\", \"Cruzeiro\",\n",
    "                 \"Atlético Paranaense\"]"
   ]
  },
  {
   "cell_type": "code",
   "execution_count": 23,
   "metadata": {},
   "outputs": [
    {
     "data": {
      "text/plain": [
       "{'Atlético Mineiro',\n",
       " 'Atlético Paranaense',\n",
       " 'Corinthians',\n",
       " 'Cruzeiro',\n",
       " 'Flamengo',\n",
       " 'Fluminense',\n",
       " 'Grêmio',\n",
       " 'Internacional',\n",
       " 'Palmeiras',\n",
       " 'Santos',\n",
       " 'Sport',\n",
       " 'Vasco da Gama'}"
      ]
     },
     "execution_count": 23,
     "metadata": {},
     "output_type": "execute_result"
    }
   ],
   "source": [
    "set_champions = set(champions)\n",
    "set_cup_champions = set(cup_champions)\n",
    "\n",
    "set_champions.intersection(set_cup_champions)"
   ]
  },
  {
   "cell_type": "markdown",
   "metadata": {},
   "source": [
    "O operador `&` também executa a interseção de dois conjuntos:"
   ]
  },
  {
   "cell_type": "code",
   "execution_count": 24,
   "metadata": {},
   "outputs": [
    {
     "data": {
      "text/plain": [
       "{'Atlético Mineiro',\n",
       " 'Atlético Paranaense',\n",
       " 'Corinthians',\n",
       " 'Cruzeiro',\n",
       " 'Flamengo',\n",
       " 'Fluminense',\n",
       " 'Grêmio',\n",
       " 'Internacional',\n",
       " 'Palmeiras',\n",
       " 'Santos',\n",
       " 'Sport',\n",
       " 'Vasco da Gama'}"
      ]
     },
     "execution_count": 24,
     "metadata": {},
     "output_type": "execute_result"
    }
   ],
   "source": [
    "set_champions & set_cup_champions"
   ]
  },
  {
   "cell_type": "markdown",
   "metadata": {},
   "source": [
    "O Set também é útil para transformar uma lista com elementos repetidos em uma estrutura com elementos únicos:"
   ]
  },
  {
   "cell_type": "code",
   "execution_count": 25,
   "metadata": {},
   "outputs": [
    {
     "data": {
      "text/plain": [
       "{1, 2, 3}"
      ]
     },
     "execution_count": 25,
     "metadata": {},
     "output_type": "execute_result"
    }
   ],
   "source": [
    "item_list = [1, 2, 3, 1, 2, 3]\n",
    "set_list = set(item_list)\n",
    "set_list"
   ]
  },
  {
   "cell_type": "markdown",
   "metadata": {},
   "source": [
    "Mais detalhes sobre os Sets: https://docs.python.org/3/library/stdtypes.html#set-types-set-frozenset"
   ]
  }
 ],
 "metadata": {
  "kernelspec": {
   "display_name": "icd",
   "language": "python",
   "name": "icd"
  },
  "language_info": {
   "codemirror_mode": {
    "name": "ipython",
    "version": 3
   },
   "file_extension": ".py",
   "mimetype": "text/x-python",
   "name": "python",
   "nbconvert_exporter": "python",
   "pygments_lexer": "ipython3",
   "version": "3.7.7"
  }
 },
 "nbformat": 4,
 "nbformat_minor": 4
}
