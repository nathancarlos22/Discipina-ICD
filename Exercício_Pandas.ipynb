{
  "nbformat": 4,
  "nbformat_minor": 0,
  "metadata": {
    "kernelspec": {
      "display_name": "icd",
      "language": "python",
      "name": "icd"
    },
    "language_info": {
      "codemirror_mode": {
        "name": "ipython",
        "version": 3
      },
      "file_extension": ".py",
      "mimetype": "text/x-python",
      "name": "python",
      "nbconvert_exporter": "python",
      "pygments_lexer": "ipython3",
      "version": "3.7.7"
    },
    "colab": {
      "name": "Exercício - Pandas.ipynb",
      "provenance": [],
      "collapsed_sections": []
    }
  },
  "cells": [
    {
      "cell_type": "markdown",
      "metadata": {
        "id": "OP2ywswSBFNJ"
      },
      "source": [
        "# Introdução à Ciência de Dados - UFPB\n",
        "Professor: Yuri Malheiros\n",
        "\n",
        "## Pandas"
      ]
    },
    {
      "cell_type": "markdown",
      "metadata": {
        "id": "gyVX9GDTBFNP"
      },
      "source": [
        "A partir do dataset `movies.csv` utilize o Pandas para responder as seguintes perguntas:"
      ]
    },
    {
      "cell_type": "code",
      "metadata": {
        "id": "BjBPW2y0BPyD",
        "outputId": "c04754af-616d-42f6-fd51-a8245ed4814f",
        "colab": {
          "base_uri": "https://localhost:8080/",
          "height": 479
        }
      },
      "source": [
        "import pandas as pd\n",
        "\n",
        "path = \"movies.csv\"\n",
        "\n",
        "df = pd.read_csv(path)\n",
        "df.head()"
      ],
      "execution_count": null,
      "outputs": [
        {
          "output_type": "execute_result",
          "data": {
            "text/html": [
              "<div>\n",
              "<style scoped>\n",
              "    .dataframe tbody tr th:only-of-type {\n",
              "        vertical-align: middle;\n",
              "    }\n",
              "\n",
              "    .dataframe tbody tr th {\n",
              "        vertical-align: top;\n",
              "    }\n",
              "\n",
              "    .dataframe thead th {\n",
              "        text-align: right;\n",
              "    }\n",
              "</style>\n",
              "<table border=\"1\" class=\"dataframe\">\n",
              "  <thead>\n",
              "    <tr style=\"text-align: right;\">\n",
              "      <th></th>\n",
              "      <th>Title</th>\n",
              "      <th>US Gross</th>\n",
              "      <th>Worldwide Gross</th>\n",
              "      <th>US DVD Sales</th>\n",
              "      <th>Production Budget</th>\n",
              "      <th>Release Date</th>\n",
              "      <th>MPAA Rating</th>\n",
              "      <th>Running Time (min)</th>\n",
              "      <th>Distributor</th>\n",
              "      <th>Source</th>\n",
              "      <th>Major Genre</th>\n",
              "      <th>Creative Type</th>\n",
              "      <th>Director</th>\n",
              "      <th>Rotten Tomatoes Rating</th>\n",
              "      <th>IMDB Rating</th>\n",
              "      <th>IMDB Votes</th>\n",
              "    </tr>\n",
              "  </thead>\n",
              "  <tbody>\n",
              "    <tr>\n",
              "      <th>0</th>\n",
              "      <td>The Land Girls</td>\n",
              "      <td>146083.0</td>\n",
              "      <td>146083.0</td>\n",
              "      <td>NaN</td>\n",
              "      <td>8000000.0</td>\n",
              "      <td>12-Jun-98</td>\n",
              "      <td>R</td>\n",
              "      <td>NaN</td>\n",
              "      <td>Gramercy</td>\n",
              "      <td>NaN</td>\n",
              "      <td>NaN</td>\n",
              "      <td>NaN</td>\n",
              "      <td>NaN</td>\n",
              "      <td>NaN</td>\n",
              "      <td>6.1</td>\n",
              "      <td>1071.0</td>\n",
              "    </tr>\n",
              "    <tr>\n",
              "      <th>1</th>\n",
              "      <td>First Love, Last Rites</td>\n",
              "      <td>10876.0</td>\n",
              "      <td>10876.0</td>\n",
              "      <td>NaN</td>\n",
              "      <td>300000.0</td>\n",
              "      <td>7-Aug-98</td>\n",
              "      <td>R</td>\n",
              "      <td>NaN</td>\n",
              "      <td>Strand</td>\n",
              "      <td>NaN</td>\n",
              "      <td>Drama</td>\n",
              "      <td>NaN</td>\n",
              "      <td>NaN</td>\n",
              "      <td>NaN</td>\n",
              "      <td>6.9</td>\n",
              "      <td>207.0</td>\n",
              "    </tr>\n",
              "    <tr>\n",
              "      <th>2</th>\n",
              "      <td>I Married a Strange Person</td>\n",
              "      <td>203134.0</td>\n",
              "      <td>203134.0</td>\n",
              "      <td>NaN</td>\n",
              "      <td>250000.0</td>\n",
              "      <td>28-Aug-98</td>\n",
              "      <td>NaN</td>\n",
              "      <td>NaN</td>\n",
              "      <td>Lionsgate</td>\n",
              "      <td>NaN</td>\n",
              "      <td>Comedy</td>\n",
              "      <td>NaN</td>\n",
              "      <td>NaN</td>\n",
              "      <td>NaN</td>\n",
              "      <td>6.8</td>\n",
              "      <td>865.0</td>\n",
              "    </tr>\n",
              "    <tr>\n",
              "      <th>3</th>\n",
              "      <td>Let's Talk About Sex</td>\n",
              "      <td>373615.0</td>\n",
              "      <td>373615.0</td>\n",
              "      <td>NaN</td>\n",
              "      <td>300000.0</td>\n",
              "      <td>11-Sep-98</td>\n",
              "      <td>NaN</td>\n",
              "      <td>NaN</td>\n",
              "      <td>Fine Line</td>\n",
              "      <td>NaN</td>\n",
              "      <td>Comedy</td>\n",
              "      <td>NaN</td>\n",
              "      <td>NaN</td>\n",
              "      <td>13.0</td>\n",
              "      <td>NaN</td>\n",
              "      <td>NaN</td>\n",
              "    </tr>\n",
              "    <tr>\n",
              "      <th>4</th>\n",
              "      <td>Slam</td>\n",
              "      <td>1009819.0</td>\n",
              "      <td>1087521.0</td>\n",
              "      <td>NaN</td>\n",
              "      <td>1000000.0</td>\n",
              "      <td>9-Oct-98</td>\n",
              "      <td>R</td>\n",
              "      <td>NaN</td>\n",
              "      <td>Trimark</td>\n",
              "      <td>Original Screenplay</td>\n",
              "      <td>Drama</td>\n",
              "      <td>Contemporary Fiction</td>\n",
              "      <td>NaN</td>\n",
              "      <td>62.0</td>\n",
              "      <td>3.4</td>\n",
              "      <td>165.0</td>\n",
              "    </tr>\n",
              "  </tbody>\n",
              "</table>\n",
              "</div>"
            ],
            "text/plain": [
              "                        Title   US Gross  ...  IMDB Rating  IMDB Votes\n",
              "0              The Land Girls   146083.0  ...          6.1      1071.0\n",
              "1      First Love, Last Rites    10876.0  ...          6.9       207.0\n",
              "2  I Married a Strange Person   203134.0  ...          6.8       865.0\n",
              "3        Let's Talk About Sex   373615.0  ...          NaN         NaN\n",
              "4                        Slam  1009819.0  ...          3.4       165.0\n",
              "\n",
              "[5 rows x 16 columns]"
            ]
          },
          "metadata": {
            "tags": []
          },
          "execution_count": 11
        }
      ]
    },
    {
      "cell_type": "markdown",
      "metadata": {
        "id": "9wUpW_6pBFNS"
      },
      "source": [
        "### Qual o gênero de filme mais lucrativo em todo o mundo?\n",
        "- The Chronicles of Narnia: The Lion, the Witch ..."
      ]
    },
    {
      "cell_type": "code",
      "metadata": {
        "id": "AMSqMvXdBFNV",
        "outputId": "d76b0807-ba93-4f5b-f534-08ea18928fc2",
        "colab": {
          "base_uri": "https://localhost:8080/",
          "height": 238
        }
      },
      "source": [
        "# ADICIONE O SEU CÓDIGO AQUI\n",
        "\n",
        "list_sum = [df[df['Major Genre'].unique()[i] == df['Major Genre']]['Worldwide Gross'].sum() for i in range(len(df['Major Genre'].unique()))]\n",
        "list_sum # lista com soma de todos os generos"
      ],
      "execution_count": 93,
      "outputs": [
        {
          "output_type": "execute_result",
          "data": {
            "text/plain": [
              "[0.0,\n",
              " 40476168953.0,\n",
              " 50384049282.0,\n",
              " 3904838498.0,\n",
              " 19260687079.0,\n",
              " 66080959632.0,\n",
              " 60435609765.0,\n",
              " 11866645522.0,\n",
              " 13321678769.0,\n",
              " 1301373151.0,\n",
              " 698944401.0,\n",
              " 824671927.0,\n",
              " 153622009.0]"
            ]
          },
          "metadata": {
            "tags": []
          },
          "execution_count": 93
        }
      ]
    },
    {
      "cell_type": "code",
      "metadata": {
        "id": "XK5IQc4VsycP",
        "outputId": "c20291a3-0d8c-4cce-acb3-85dd0dbcb076",
        "colab": {
          "base_uri": "https://localhost:8080/",
          "height": 255
        }
      },
      "source": [
        "df_sum = pd.Series(list_sum, df['Major Genre'].unique())\n",
        "df_sum.sort_values(ascending=False)"
      ],
      "execution_count": 98,
      "outputs": [
        {
          "output_type": "execute_result",
          "data": {
            "text/plain": [
              "Adventure              6.608096e+10\n",
              "Action                 6.043561e+10\n",
              "Comedy                 5.038405e+10\n",
              "Drama                  4.047617e+10\n",
              "Thriller/Suspense      1.926069e+10\n",
              "Horror                 1.332168e+10\n",
              "Romantic Comedy        1.186665e+10\n",
              "Musical                3.904838e+09\n",
              "Western                1.301373e+09\n",
              "Black Comedy           8.246719e+08\n",
              "Documentary            6.989444e+08\n",
              "Concert/Performance    1.536220e+08\n",
              "NaN                    0.000000e+00\n",
              "dtype: float64"
            ]
          },
          "metadata": {
            "tags": []
          },
          "execution_count": 98
        }
      ]
    },
    {
      "cell_type": "markdown",
      "metadata": {
        "id": "c4PT7KylBFNv"
      },
      "source": [
        "### Qual o diretor dirigiu mais filmes?\n",
        "- Steven Spielberg"
      ]
    },
    {
      "cell_type": "code",
      "metadata": {
        "id": "y8ryTPsPBFN5",
        "outputId": "1113fff8-e009-4b81-9fcd-7c6110d8ebe8",
        "colab": {
          "base_uri": "https://localhost:8080/",
          "height": 221
        }
      },
      "source": [
        "# ADICIONE O SEU CÓDIGO AQUI\n",
        "df[\"Director\"].value_counts()"
      ],
      "execution_count": null,
      "outputs": [
        {
          "output_type": "execute_result",
          "data": {
            "text/plain": [
              "Steven Spielberg    23\n",
              "Woody Allen         16\n",
              "Martin Scorsese     15\n",
              "Spike Lee           15\n",
              "Ridley Scott        14\n",
              "                    ..\n",
              "Tony Gilroy          1\n",
              "Neill Blomkamp       1\n",
              "John Badham          1\n",
              "Chris Nahon          1\n",
              "Jeffrey W. Byrd      1\n",
              "Name: Director, Length: 550, dtype: int64"
            ]
          },
          "metadata": {
            "tags": []
          },
          "execution_count": 33
        }
      ]
    },
    {
      "cell_type": "markdown",
      "metadata": {
        "id": "_vQHY3FzBFOH"
      },
      "source": [
        "### Quais filmes tiverem os maiores arrecadações (Gross) em relação ao orçamento de produção (Budget)?"
      ]
    },
    {
      "cell_type": "code",
      "metadata": {
        "id": "6GIbwyfKBFOJ",
        "outputId": "b732d92e-6e73-4ab0-ead2-bac32b6d77b0",
        "colab": {
          "base_uri": "https://localhost:8080/",
          "height": 419
        }
      },
      "source": [
        "# ADICIONE O SEU CÓDIGO AQUI\n",
        "Gross_Budget = df.T.loc[\"Title\":\"Production Budget\"].T\n",
        "Gross_Budget = Gross_Budget.drop(columns=\"US DVD Sales\")\n",
        "Gross_Budget"
      ],
      "execution_count": null,
      "outputs": [
        {
          "output_type": "execute_result",
          "data": {
            "text/html": [
              "<div>\n",
              "<style scoped>\n",
              "    .dataframe tbody tr th:only-of-type {\n",
              "        vertical-align: middle;\n",
              "    }\n",
              "\n",
              "    .dataframe tbody tr th {\n",
              "        vertical-align: top;\n",
              "    }\n",
              "\n",
              "    .dataframe thead th {\n",
              "        text-align: right;\n",
              "    }\n",
              "</style>\n",
              "<table border=\"1\" class=\"dataframe\">\n",
              "  <thead>\n",
              "    <tr style=\"text-align: right;\">\n",
              "      <th></th>\n",
              "      <th>Title</th>\n",
              "      <th>US Gross</th>\n",
              "      <th>Worldwide Gross</th>\n",
              "      <th>Production Budget</th>\n",
              "    </tr>\n",
              "  </thead>\n",
              "  <tbody>\n",
              "    <tr>\n",
              "      <th>0</th>\n",
              "      <td>The Land Girls</td>\n",
              "      <td>146083</td>\n",
              "      <td>146083</td>\n",
              "      <td>8e+06</td>\n",
              "    </tr>\n",
              "    <tr>\n",
              "      <th>1</th>\n",
              "      <td>First Love, Last Rites</td>\n",
              "      <td>10876</td>\n",
              "      <td>10876</td>\n",
              "      <td>300000</td>\n",
              "    </tr>\n",
              "    <tr>\n",
              "      <th>2</th>\n",
              "      <td>I Married a Strange Person</td>\n",
              "      <td>203134</td>\n",
              "      <td>203134</td>\n",
              "      <td>250000</td>\n",
              "    </tr>\n",
              "    <tr>\n",
              "      <th>3</th>\n",
              "      <td>Let's Talk About Sex</td>\n",
              "      <td>373615</td>\n",
              "      <td>373615</td>\n",
              "      <td>300000</td>\n",
              "    </tr>\n",
              "    <tr>\n",
              "      <th>4</th>\n",
              "      <td>Slam</td>\n",
              "      <td>1.00982e+06</td>\n",
              "      <td>1.08752e+06</td>\n",
              "      <td>1e+06</td>\n",
              "    </tr>\n",
              "    <tr>\n",
              "      <th>...</th>\n",
              "      <td>...</td>\n",
              "      <td>...</td>\n",
              "      <td>...</td>\n",
              "      <td>...</td>\n",
              "    </tr>\n",
              "    <tr>\n",
              "      <th>3196</th>\n",
              "      <td>Zack and Miri Make a Porno</td>\n",
              "      <td>3.14528e+07</td>\n",
              "      <td>3.68511e+07</td>\n",
              "      <td>2.4e+07</td>\n",
              "    </tr>\n",
              "    <tr>\n",
              "      <th>3197</th>\n",
              "      <td>Zodiac</td>\n",
              "      <td>3.30801e+07</td>\n",
              "      <td>8.30801e+07</td>\n",
              "      <td>8.5e+07</td>\n",
              "    </tr>\n",
              "    <tr>\n",
              "      <th>3198</th>\n",
              "      <td>Zoom</td>\n",
              "      <td>1.19893e+07</td>\n",
              "      <td>1.25062e+07</td>\n",
              "      <td>3.5e+07</td>\n",
              "    </tr>\n",
              "    <tr>\n",
              "      <th>3199</th>\n",
              "      <td>The Legend of Zorro</td>\n",
              "      <td>4.55753e+07</td>\n",
              "      <td>1.41475e+08</td>\n",
              "      <td>8e+07</td>\n",
              "    </tr>\n",
              "    <tr>\n",
              "      <th>3200</th>\n",
              "      <td>The Mask of Zorro</td>\n",
              "      <td>9.38287e+07</td>\n",
              "      <td>2.337e+08</td>\n",
              "      <td>6.5e+07</td>\n",
              "    </tr>\n",
              "  </tbody>\n",
              "</table>\n",
              "<p>3201 rows × 4 columns</p>\n",
              "</div>"
            ],
            "text/plain": [
              "                           Title     US Gross Worldwide Gross Production Budget\n",
              "0                 The Land Girls       146083          146083             8e+06\n",
              "1         First Love, Last Rites        10876           10876            300000\n",
              "2     I Married a Strange Person       203134          203134            250000\n",
              "3           Let's Talk About Sex       373615          373615            300000\n",
              "4                           Slam  1.00982e+06     1.08752e+06             1e+06\n",
              "...                          ...          ...             ...               ...\n",
              "3196  Zack and Miri Make a Porno  3.14528e+07     3.68511e+07           2.4e+07\n",
              "3197                      Zodiac  3.30801e+07     8.30801e+07           8.5e+07\n",
              "3198                        Zoom  1.19893e+07     1.25062e+07           3.5e+07\n",
              "3199         The Legend of Zorro  4.55753e+07     1.41475e+08             8e+07\n",
              "3200           The Mask of Zorro  9.38287e+07       2.337e+08           6.5e+07\n",
              "\n",
              "[3201 rows x 4 columns]"
            ]
          },
          "metadata": {
            "tags": []
          },
          "execution_count": 75
        }
      ]
    },
    {
      "cell_type": "code",
      "metadata": {
        "id": "dJB7r96-SyBw"
      },
      "source": [
        "Gross_Budget[\"Diferença\"] = Gross_Budget[\"Worldwide Gross\"] - Gross_Budget[\"Production Budget\"]"
      ],
      "execution_count": null,
      "outputs": []
    },
    {
      "cell_type": "code",
      "metadata": {
        "id": "fuF6IV5qQTU7",
        "outputId": "83b8145e-7ce9-4b50-861e-ed466bf6871e",
        "colab": {
          "base_uri": "https://localhost:8080/",
          "height": 419
        }
      },
      "source": [
        "Gross_Budget.sort_values(by=\"Diferença\", ascending=False)"
      ],
      "execution_count": null,
      "outputs": [
        {
          "output_type": "execute_result",
          "data": {
            "text/html": [
              "<div>\n",
              "<style scoped>\n",
              "    .dataframe tbody tr th:only-of-type {\n",
              "        vertical-align: middle;\n",
              "    }\n",
              "\n",
              "    .dataframe tbody tr th {\n",
              "        vertical-align: top;\n",
              "    }\n",
              "\n",
              "    .dataframe thead th {\n",
              "        text-align: right;\n",
              "    }\n",
              "</style>\n",
              "<table border=\"1\" class=\"dataframe\">\n",
              "  <thead>\n",
              "    <tr style=\"text-align: right;\">\n",
              "      <th></th>\n",
              "      <th>Title</th>\n",
              "      <th>US Gross</th>\n",
              "      <th>Worldwide Gross</th>\n",
              "      <th>Production Budget</th>\n",
              "      <th>Diferença</th>\n",
              "    </tr>\n",
              "  </thead>\n",
              "  <tbody>\n",
              "    <tr>\n",
              "      <th>1234</th>\n",
              "      <td>Avatar</td>\n",
              "      <td>7.60168e+08</td>\n",
              "      <td>2.76789e+09</td>\n",
              "      <td>2.37e+08</td>\n",
              "      <td>2.53089e+09</td>\n",
              "    </tr>\n",
              "    <tr>\n",
              "      <th>2970</th>\n",
              "      <td>Titanic</td>\n",
              "      <td>6.00788e+08</td>\n",
              "      <td>1.84288e+09</td>\n",
              "      <td>2e+08</td>\n",
              "      <td>1.64288e+09</td>\n",
              "    </tr>\n",
              "    <tr>\n",
              "      <th>2202</th>\n",
              "      <td>The Lord of the Rings: The Return of the King</td>\n",
              "      <td>3.77027e+08</td>\n",
              "      <td>1.13303e+09</td>\n",
              "      <td>9.4e+07</td>\n",
              "      <td>1.03903e+09</td>\n",
              "    </tr>\n",
              "    <tr>\n",
              "      <th>485</th>\n",
              "      <td>Jurassic Park</td>\n",
              "      <td>3.57068e+08</td>\n",
              "      <td>9.23068e+08</td>\n",
              "      <td>6.3e+07</td>\n",
              "      <td>8.60068e+08</td>\n",
              "    </tr>\n",
              "    <tr>\n",
              "      <th>1975</th>\n",
              "      <td>Harry Potter and the Sorcerer's Stone</td>\n",
              "      <td>3.17558e+08</td>\n",
              "      <td>9.76458e+08</td>\n",
              "      <td>1.25e+08</td>\n",
              "      <td>8.51458e+08</td>\n",
              "    </tr>\n",
              "    <tr>\n",
              "      <th>...</th>\n",
              "      <td>...</td>\n",
              "      <td>...</td>\n",
              "      <td>...</td>\n",
              "      <td>...</td>\n",
              "      <td>...</td>\n",
              "    </tr>\n",
              "    <tr>\n",
              "      <th>404</th>\n",
              "      <td>Hell's Angels</td>\n",
              "      <td>NaN</td>\n",
              "      <td>NaN</td>\n",
              "      <td>4e+06</td>\n",
              "      <td>NaN</td>\n",
              "    </tr>\n",
              "    <tr>\n",
              "      <th>467</th>\n",
              "      <td>Intolerance</td>\n",
              "      <td>NaN</td>\n",
              "      <td>NaN</td>\n",
              "      <td>385907</td>\n",
              "      <td>NaN</td>\n",
              "    </tr>\n",
              "    <tr>\n",
              "      <th>1025</th>\n",
              "      <td>Waterloo</td>\n",
              "      <td>NaN</td>\n",
              "      <td>NaN</td>\n",
              "      <td>2.5e+07</td>\n",
              "      <td>NaN</td>\n",
              "    </tr>\n",
              "    <tr>\n",
              "      <th>1028</th>\n",
              "      <td>Wings</td>\n",
              "      <td>NaN</td>\n",
              "      <td>NaN</td>\n",
              "      <td>2e+06</td>\n",
              "      <td>NaN</td>\n",
              "    </tr>\n",
              "    <tr>\n",
              "      <th>1271</th>\n",
              "      <td>Baby Mama</td>\n",
              "      <td>6.04942e+07</td>\n",
              "      <td>6.43915e+07</td>\n",
              "      <td>NaN</td>\n",
              "      <td>NaN</td>\n",
              "    </tr>\n",
              "  </tbody>\n",
              "</table>\n",
              "<p>3201 rows × 5 columns</p>\n",
              "</div>"
            ],
            "text/plain": [
              "                                              Title  ...    Diferença\n",
              "1234                                         Avatar  ...  2.53089e+09\n",
              "2970                                        Titanic  ...  1.64288e+09\n",
              "2202  The Lord of the Rings: The Return of the King  ...  1.03903e+09\n",
              "485                                   Jurassic Park  ...  8.60068e+08\n",
              "1975          Harry Potter and the Sorcerer's Stone  ...  8.51458e+08\n",
              "...                                             ...  ...          ...\n",
              "404                                   Hell's Angels  ...          NaN\n",
              "467                                     Intolerance  ...          NaN\n",
              "1025                                       Waterloo  ...          NaN\n",
              "1028                                          Wings  ...          NaN\n",
              "1271                                      Baby Mama  ...          NaN\n",
              "\n",
              "[3201 rows x 5 columns]"
            ]
          },
          "metadata": {
            "tags": []
          },
          "execution_count": 82
        }
      ]
    },
    {
      "cell_type": "code",
      "metadata": {
        "id": "O_FGWKrwMTAZ"
      },
      "source": [
        ""
      ],
      "execution_count": null,
      "outputs": []
    }
  ]
}