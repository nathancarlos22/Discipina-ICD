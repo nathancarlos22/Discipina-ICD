{
 "cells": [
  {
   "cell_type": "markdown",
   "metadata": {},
   "source": [
    "# Introdução à Ciência de Dados - UFPB\n",
    "Professor: Yuri Malheiros\n",
    "\n",
    "## Python - Random - Exercício"
   ]
  },
  {
   "cell_type": "markdown",
   "metadata": {},
   "source": [
    "Implemente a função `generate_password` que deve gerar uma senha aleatória.\n",
    "\n",
    "A função tem tres parâmetros:\n",
    "\n",
    "- `n_chars` especifica o tamanho da senha gerada\n",
    "- `use_numbers` especifica se números podem ser usados na senha. Por padrão, esse parâmetro tem valor True\n",
    "- `use_special_chars` especifica se caracteres especiais, por exemplo !#%&@?, pode ser usados na senha. Por padrão, esse parâmetro tem valor True\n",
    "\n",
    "Note que se `use_numbers` e `use_special_chars` tiverem valor False, a senha terá apenas letras maiúsculas ou minúsculas."
   ]
  },
  {
   "cell_type": "code",
   "execution_count": null,
   "metadata": {},
   "outputs": [],
   "source": [
    "import string\n",
    "\n",
    "def generate_password(n_chars, use_numbers=True, use_special_chars=True):\n",
    "    # ADICIONE O SEU CÓDIGO AQUI"
   ]
  },
  {
   "cell_type": "code",
   "execution_count": null,
   "metadata": {},
   "outputs": [],
   "source": [
    "print(generate_password(10))\n",
    "print(generate_password(10, use_numbers=False))\n",
    "print(generate_password(10, use_numbers=False, use_special_chars=False))"
   ]
  }
 ],
 "metadata": {
  "kernelspec": {
   "display_name": "icd",
   "language": "python",
   "name": "icd"
  },
  "language_info": {
   "codemirror_mode": {
    "name": "ipython",
    "version": 3
   },
   "file_extension": ".py",
   "mimetype": "text/x-python",
   "name": "python",
   "nbconvert_exporter": "python",
   "pygments_lexer": "ipython3",
   "version": "3.7.7"
  }
 },
 "nbformat": 4,
 "nbformat_minor": 4
}
