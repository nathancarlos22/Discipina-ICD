{
  "nbformat": 4,
  "nbformat_minor": 0,
  "metadata": {
    "kernelspec": {
      "display_name": "icd",
      "language": "python",
      "name": "icd"
    },
    "language_info": {
      "codemirror_mode": {
        "name": "ipython",
        "version": 3
      },
      "file_extension": ".py",
      "mimetype": "text/x-python",
      "name": "python",
      "nbconvert_exporter": "python",
      "pygments_lexer": "ipython3",
      "version": "3.7.7"
    },
    "colab": {
      "name": "Exercício - Python - Listas.ipynb",
      "provenance": []
    }
  },
  "cells": [
    {
      "cell_type": "markdown",
      "metadata": {
        "id": "95H1qe0H8ZG4",
        "colab_type": "text"
      },
      "source": [
        "# Introdução à Ciência de Dados - UFPB\n",
        "Professor: Yuri Malheiros\n",
        "\n",
        "## Python - Listas - Exercício"
      ]
    },
    {
      "cell_type": "markdown",
      "metadata": {
        "id": "KvDeS5PH8ZG8",
        "colab_type": "text"
      },
      "source": [
        "Utilizando o resultado do processamento da lista de músicas, vamos implementar duas funções."
      ]
    },
    {
      "cell_type": "code",
      "metadata": {
        "id": "BbXJ-n1d8ZG-",
        "colab_type": "code",
        "colab": {}
      },
      "source": [
        "top_10 = [\"Tones and I - Dance Monkey\", \"Lady Gaga, Ariana Grande - Rain on Me\",\n",
        "          \"Justin Bieber - Yummy\", \"MISCHO - Photon Love\", \"Dua Lipa - Break My Heart\",\n",
        "          \"Lady Gaga, BLACKPINK - Sour Candy\", \"Dua Lipa - Don't Start Now\",\n",
        "          \"Justin Bieber, Quavo - Intentions\", \"Doja Cat - Say So\",\n",
        "          \"Karol G, Nicki Minaj - Tusa\", \"Benee, Gus Dapperton - Supalonely\"]"
      ],
      "execution_count": 1,
      "outputs": []
    },
    {
      "cell_type": "code",
      "metadata": {
        "id": "lkMbBwZ58ZHI",
        "colab_type": "code",
        "colab": {
          "base_uri": "https://localhost:8080/",
          "height": 204
        },
        "outputId": "7d30bd5c-3c76-444e-edc1-52719b46e50c"
      },
      "source": [
        "top_10_dict = [{\"artist\": x.split(\" - \")[0], \"song\": x.split(\" - \")[1]} for x in top_10]\n",
        "top_10_dict"
      ],
      "execution_count": 2,
      "outputs": [
        {
          "output_type": "execute_result",
          "data": {
            "text/plain": [
              "[{'artist': 'Tones and I', 'song': 'Dance Monkey'},\n",
              " {'artist': 'Lady Gaga, Ariana Grande', 'song': 'Rain on Me'},\n",
              " {'artist': 'Justin Bieber', 'song': 'Yummy'},\n",
              " {'artist': 'MISCHO', 'song': 'Photon Love'},\n",
              " {'artist': 'Dua Lipa', 'song': 'Break My Heart'},\n",
              " {'artist': 'Lady Gaga, BLACKPINK', 'song': 'Sour Candy'},\n",
              " {'artist': 'Dua Lipa', 'song': \"Don't Start Now\"},\n",
              " {'artist': 'Justin Bieber, Quavo', 'song': 'Intentions'},\n",
              " {'artist': 'Doja Cat', 'song': 'Say So'},\n",
              " {'artist': 'Karol G, Nicki Minaj', 'song': 'Tusa'},\n",
              " {'artist': 'Benee, Gus Dapperton', 'song': 'Supalonely'}]"
            ]
          },
          "metadata": {
            "tags": []
          },
          "execution_count": 2
        }
      ]
    },
    {
      "cell_type": "markdown",
      "metadata": {
        "id": "P6hA68-t8ZHO",
        "colab_type": "text"
      },
      "source": [
        "As funções possuem um comentário de doctest que serve para testá-la. Por favor, não apague o comentário após a a definição da função.\n",
        "\n",
        "Você pode conferir se a implementação está correta executando a última célula deste notebook."
      ]
    },
    {
      "cell_type": "markdown",
      "metadata": {
        "id": "KmbtHWpi8ZHP",
        "colab_type": "text"
      },
      "source": [
        "A função `get_songs` vai receber a lista `top_10_dict` como parâmetro. Escreva o código para que ela retorne uma lista com todas as músicas:"
      ]
    },
    {
      "cell_type": "code",
      "metadata": {
        "id": "dGF5dkvT8ZHQ",
        "colab_type": "code",
        "colab": {}
      },
      "source": [
        "def get_songs(music_dict):\n",
        "    \"\"\"\n",
        "    >>> get_songs(top_10_dict)\n",
        "    ['Dance Monkey', 'Rain on Me', 'Yummy', 'Photon Love', 'Break My Heart', 'Sour Candy', \"Don't Start Now\", 'Intentions', 'Say So', 'Tusa', 'Supalonely']\n",
        "    \"\"\"\n",
        "\n",
        "\n",
        "    # ADICIONE O SEU CÓDIGO AQUI\n",
        "    songs = []\n",
        "    for lista in music_dict:\n",
        "      songs.append((lista['song']))\n",
        "    \n",
        "    return songs"
      ],
      "execution_count": 29,
      "outputs": []
    },
    {
      "cell_type": "code",
      "metadata": {
        "id": "NXZLkPUQ8ZHV",
        "colab_type": "code",
        "colab": {
          "base_uri": "https://localhost:8080/",
          "height": 204
        },
        "outputId": "9ccd83d5-027d-4a23-b74b-ee502e7a1467"
      },
      "source": [
        "get_songs(top_10_dict)"
      ],
      "execution_count": 30,
      "outputs": [
        {
          "output_type": "execute_result",
          "data": {
            "text/plain": [
              "['Dance Monkey',\n",
              " 'Rain on Me',\n",
              " 'Yummy',\n",
              " 'Photon Love',\n",
              " 'Break My Heart',\n",
              " 'Sour Candy',\n",
              " \"Don't Start Now\",\n",
              " 'Intentions',\n",
              " 'Say So',\n",
              " 'Tusa',\n",
              " 'Supalonely']"
            ]
          },
          "metadata": {
            "tags": []
          },
          "execution_count": 30
        }
      ]
    },
    {
      "cell_type": "markdown",
      "metadata": {
        "id": "GT2gMivx8ZHb",
        "colab_type": "text"
      },
      "source": [
        "A função `get_artists` vai receber a lista `top_10_dict` como parâmetro. Escreva o código para que ela retorne uma lista com todos os artistas. Atenção, algumas músicas possuem mais de um artista, eles são separados por vírgula. A função abaixo deve separar os artistas."
      ]
    },
    {
      "cell_type": "code",
      "metadata": {
        "id": "Fe0d-79F8ZHc",
        "colab_type": "code",
        "colab": {}
      },
      "source": [
        "def get_artists(music_dict):\n",
        "    \"\"\"\n",
        "    >>> get_artists(top_10_dict)\n",
        "    ['Tones and I', 'Lady Gaga', 'Ariana Grande', 'Justin Bieber', 'MISCHO', 'Dua Lipa', 'Lady Gaga', 'BLACKPINK', 'Dua Lipa', 'Justin Bieber', 'Quavo', 'Doja Cat', 'Karol G', 'Nicki Minaj', 'Benee', 'Gus Dapperton']\n",
        "    \"\"\"\n",
        "\n",
        "    # ADICIONE O SEU CÓDIGO AQUI    \n",
        "    artists = []\n",
        "    for lista in music_dict:\n",
        "      p = lista['artist'].find(', ') # encontra se a string tiver virgula\n",
        "      if p == -1: # se nao tiver, adiciona \n",
        "        artists.append(lista['artist'])\n",
        "      else:\n",
        "        virg = lista['artist'].split(', ')\n",
        "        for virg1 in virg:\n",
        "          artists.append(virg1)\n",
        "    \n",
        "    return artists"
      ],
      "execution_count": 61,
      "outputs": []
    },
    {
      "cell_type": "code",
      "metadata": {
        "id": "Zvjb0OhN8ZHi",
        "colab_type": "code",
        "colab": {
          "base_uri": "https://localhost:8080/",
          "height": 289
        },
        "outputId": "79a3a15e-b84d-47ef-b0b2-07ef27a975be"
      },
      "source": [
        "get_artists(top_10_dict)"
      ],
      "execution_count": 62,
      "outputs": [
        {
          "output_type": "execute_result",
          "data": {
            "text/plain": [
              "['Tones and I',\n",
              " 'Lady Gaga',\n",
              " 'Ariana Grande',\n",
              " 'Justin Bieber',\n",
              " 'MISCHO',\n",
              " 'Dua Lipa',\n",
              " 'Lady Gaga',\n",
              " 'BLACKPINK',\n",
              " 'Dua Lipa',\n",
              " 'Justin Bieber',\n",
              " 'Quavo',\n",
              " 'Doja Cat',\n",
              " 'Karol G',\n",
              " 'Nicki Minaj',\n",
              " 'Benee',\n",
              " 'Gus Dapperton']"
            ]
          },
          "metadata": {
            "tags": []
          },
          "execution_count": 62
        }
      ]
    },
    {
      "cell_type": "markdown",
      "metadata": {
        "id": "OvAv84f78ZHp",
        "colab_type": "text"
      },
      "source": [
        "## Teste"
      ]
    },
    {
      "cell_type": "code",
      "metadata": {
        "id": "hpEVET-V8ZHr",
        "colab_type": "code",
        "colab": {
          "base_uri": "https://localhost:8080/",
          "height": 360
        },
        "outputId": "05611f0b-a19f-4ee8-b398-ff9e4750a4e8"
      },
      "source": [
        "import doctest\n",
        "\n",
        "doctest.testmod(verbose=True)"
      ],
      "execution_count": 63,
      "outputs": [
        {
          "output_type": "stream",
          "text": [
            "Trying:\n",
            "    get_artists(top_10_dict)\n",
            "Expecting:\n",
            "    ['Tones and I', 'Lady Gaga', 'Ariana Grande', 'Justin Bieber', 'MISCHO', 'Dua Lipa', 'Lady Gaga', 'BLACKPINK', 'Dua Lipa', 'Justin Bieber', 'Quavo', 'Doja Cat', 'Karol G', 'Nicki Minaj', 'Benee', 'Gus Dapperton']\n",
            "ok\n",
            "Trying:\n",
            "    get_songs(top_10_dict)\n",
            "Expecting:\n",
            "    ['Dance Monkey', 'Rain on Me', 'Yummy', 'Photon Love', 'Break My Heart', 'Sour Candy', \"Don't Start Now\", 'Intentions', 'Say So', 'Tusa', 'Supalonely']\n",
            "ok\n",
            "1 items had no tests:\n",
            "    __main__\n",
            "2 items passed all tests:\n",
            "   1 tests in __main__.get_artists\n",
            "   1 tests in __main__.get_songs\n",
            "2 tests in 3 items.\n",
            "2 passed and 0 failed.\n",
            "Test passed.\n"
          ],
          "name": "stdout"
        },
        {
          "output_type": "execute_result",
          "data": {
            "text/plain": [
              "TestResults(failed=0, attempted=2)"
            ]
          },
          "metadata": {
            "tags": []
          },
          "execution_count": 63
        }
      ]
    },
    {
      "cell_type": "code",
      "metadata": {
        "id": "lsrrLJwcN42r",
        "colab_type": "code",
        "colab": {}
      },
      "source": [
        ""
      ],
      "execution_count": null,
      "outputs": []
    }
  ]
}