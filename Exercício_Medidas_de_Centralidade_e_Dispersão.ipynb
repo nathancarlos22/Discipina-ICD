{
  "nbformat": 4,
  "nbformat_minor": 0,
  "metadata": {
    "kernelspec": {
      "display_name": "icd",
      "language": "python",
      "name": "icd"
    },
    "language_info": {
      "codemirror_mode": {
        "name": "ipython",
        "version": 3
      },
      "file_extension": ".py",
      "mimetype": "text/x-python",
      "name": "python",
      "nbconvert_exporter": "python",
      "pygments_lexer": "ipython3",
      "version": "3.7.7"
    },
    "colab": {
      "name": "Exercício - Medidas de Centralidade e Dispersão.ipynb",
      "provenance": []
    }
  },
  "cells": [
    {
      "cell_type": "markdown",
      "metadata": {
        "id": "aMVh27SH7jj7"
      },
      "source": [
        "# Introdução à Ciência de Dados - UFPB\n",
        "Professor: Yuri Malheiros\n",
        "\n",
        "## Medidas de Centralidade e Dispersão"
      ]
    },
    {
      "cell_type": "markdown",
      "metadata": {
        "id": "kV0BwefS7jpq"
      },
      "source": [
        "A partir do dataset `movies.csv` calcule a média, mediana e desvio padrão para as colunas:"
      ]
    },
    {
      "cell_type": "code",
      "metadata": {
        "id": "AR-M_jJGCX3z",
        "outputId": "10eb5faa-03d4-4f5c-af1f-0927401e2877",
        "colab": {
          "base_uri": "https://localhost:8080/",
          "height": 479
        }
      },
      "source": [
        "import pandas as pd\n",
        "\n",
        "path = \"movies.csv\"\n",
        "\n",
        "df = pd.read_csv(path)\n",
        "df.head()"
      ],
      "execution_count": 1,
      "outputs": [
        {
          "output_type": "execute_result",
          "data": {
            "text/html": [
              "<div>\n",
              "<style scoped>\n",
              "    .dataframe tbody tr th:only-of-type {\n",
              "        vertical-align: middle;\n",
              "    }\n",
              "\n",
              "    .dataframe tbody tr th {\n",
              "        vertical-align: top;\n",
              "    }\n",
              "\n",
              "    .dataframe thead th {\n",
              "        text-align: right;\n",
              "    }\n",
              "</style>\n",
              "<table border=\"1\" class=\"dataframe\">\n",
              "  <thead>\n",
              "    <tr style=\"text-align: right;\">\n",
              "      <th></th>\n",
              "      <th>Title</th>\n",
              "      <th>US Gross</th>\n",
              "      <th>Worldwide Gross</th>\n",
              "      <th>US DVD Sales</th>\n",
              "      <th>Production Budget</th>\n",
              "      <th>Release Date</th>\n",
              "      <th>MPAA Rating</th>\n",
              "      <th>Running Time (min)</th>\n",
              "      <th>Distributor</th>\n",
              "      <th>Source</th>\n",
              "      <th>Major Genre</th>\n",
              "      <th>Creative Type</th>\n",
              "      <th>Director</th>\n",
              "      <th>Rotten Tomatoes Rating</th>\n",
              "      <th>IMDB Rating</th>\n",
              "      <th>IMDB Votes</th>\n",
              "    </tr>\n",
              "  </thead>\n",
              "  <tbody>\n",
              "    <tr>\n",
              "      <th>0</th>\n",
              "      <td>The Land Girls</td>\n",
              "      <td>146083.0</td>\n",
              "      <td>146083.0</td>\n",
              "      <td>NaN</td>\n",
              "      <td>8000000.0</td>\n",
              "      <td>12-Jun-98</td>\n",
              "      <td>R</td>\n",
              "      <td>NaN</td>\n",
              "      <td>Gramercy</td>\n",
              "      <td>NaN</td>\n",
              "      <td>NaN</td>\n",
              "      <td>NaN</td>\n",
              "      <td>NaN</td>\n",
              "      <td>NaN</td>\n",
              "      <td>6.1</td>\n",
              "      <td>1071.0</td>\n",
              "    </tr>\n",
              "    <tr>\n",
              "      <th>1</th>\n",
              "      <td>First Love, Last Rites</td>\n",
              "      <td>10876.0</td>\n",
              "      <td>10876.0</td>\n",
              "      <td>NaN</td>\n",
              "      <td>300000.0</td>\n",
              "      <td>7-Aug-98</td>\n",
              "      <td>R</td>\n",
              "      <td>NaN</td>\n",
              "      <td>Strand</td>\n",
              "      <td>NaN</td>\n",
              "      <td>Drama</td>\n",
              "      <td>NaN</td>\n",
              "      <td>NaN</td>\n",
              "      <td>NaN</td>\n",
              "      <td>6.9</td>\n",
              "      <td>207.0</td>\n",
              "    </tr>\n",
              "    <tr>\n",
              "      <th>2</th>\n",
              "      <td>I Married a Strange Person</td>\n",
              "      <td>203134.0</td>\n",
              "      <td>203134.0</td>\n",
              "      <td>NaN</td>\n",
              "      <td>250000.0</td>\n",
              "      <td>28-Aug-98</td>\n",
              "      <td>NaN</td>\n",
              "      <td>NaN</td>\n",
              "      <td>Lionsgate</td>\n",
              "      <td>NaN</td>\n",
              "      <td>Comedy</td>\n",
              "      <td>NaN</td>\n",
              "      <td>NaN</td>\n",
              "      <td>NaN</td>\n",
              "      <td>6.8</td>\n",
              "      <td>865.0</td>\n",
              "    </tr>\n",
              "    <tr>\n",
              "      <th>3</th>\n",
              "      <td>Let's Talk About Sex</td>\n",
              "      <td>373615.0</td>\n",
              "      <td>373615.0</td>\n",
              "      <td>NaN</td>\n",
              "      <td>300000.0</td>\n",
              "      <td>11-Sep-98</td>\n",
              "      <td>NaN</td>\n",
              "      <td>NaN</td>\n",
              "      <td>Fine Line</td>\n",
              "      <td>NaN</td>\n",
              "      <td>Comedy</td>\n",
              "      <td>NaN</td>\n",
              "      <td>NaN</td>\n",
              "      <td>13.0</td>\n",
              "      <td>NaN</td>\n",
              "      <td>NaN</td>\n",
              "    </tr>\n",
              "    <tr>\n",
              "      <th>4</th>\n",
              "      <td>Slam</td>\n",
              "      <td>1009819.0</td>\n",
              "      <td>1087521.0</td>\n",
              "      <td>NaN</td>\n",
              "      <td>1000000.0</td>\n",
              "      <td>9-Oct-98</td>\n",
              "      <td>R</td>\n",
              "      <td>NaN</td>\n",
              "      <td>Trimark</td>\n",
              "      <td>Original Screenplay</td>\n",
              "      <td>Drama</td>\n",
              "      <td>Contemporary Fiction</td>\n",
              "      <td>NaN</td>\n",
              "      <td>62.0</td>\n",
              "      <td>3.4</td>\n",
              "      <td>165.0</td>\n",
              "    </tr>\n",
              "  </tbody>\n",
              "</table>\n",
              "</div>"
            ],
            "text/plain": [
              "                        Title   US Gross  ...  IMDB Rating  IMDB Votes\n",
              "0              The Land Girls   146083.0  ...          6.1      1071.0\n",
              "1      First Love, Last Rites    10876.0  ...          6.9       207.0\n",
              "2  I Married a Strange Person   203134.0  ...          6.8       865.0\n",
              "3        Let's Talk About Sex   373615.0  ...          NaN         NaN\n",
              "4                        Slam  1009819.0  ...          3.4       165.0\n",
              "\n",
              "[5 rows x 16 columns]"
            ]
          },
          "metadata": {
            "tags": []
          },
          "execution_count": 1
        }
      ]
    },
    {
      "cell_type": "markdown",
      "metadata": {
        "id": "sarAE5P07jre"
      },
      "source": [
        "### US Gross"
      ]
    },
    {
      "cell_type": "code",
      "metadata": {
        "id": "m6jdAqCI7jrh",
        "outputId": "ab661e3a-c70a-4900-ea79-24b8d3ea6774",
        "colab": {
          "base_uri": "https://localhost:8080/"
        }
      },
      "source": [
        "# ADICIONE O SEU CÓDIGO AQUI\n",
        "print(\"Média\", df['US Gross'].mean())\n",
        "print(\"Mediana\", df['US Gross'].median())\n",
        "print(\"Moda\", df['US Gross'].mode())\n",
        "print(\"Variância\", df['US Gross'].var())\n",
        "print(\"Desvio padrão\", df['US Gross'].std())"
      ],
      "execution_count": 2,
      "outputs": [
        {
          "output_type": "stream",
          "text": [
            "Média 44002085.163744524\n",
            "Mediana 22019465.5\n",
            "Moda 0    0.0\n",
            "dtype: float64\n",
            "Variância 3913166983182692.0\n",
            "Desvio padrão 62555311.39066204\n"
          ],
          "name": "stdout"
        }
      ]
    },
    {
      "cell_type": "markdown",
      "metadata": {
        "id": "uncMFakf7jr-"
      },
      "source": [
        "### Production Budget"
      ]
    },
    {
      "cell_type": "code",
      "metadata": {
        "id": "8Bm-7un27jsB",
        "outputId": "4f11494b-0808-478c-9db7-0bedab398d0c",
        "colab": {
          "base_uri": "https://localhost:8080/"
        }
      },
      "source": [
        "# ADICIONE O SEU CÓDIGO AQUI\n",
        "print(\"Média\", df['Production Budget'].mean())\n",
        "print(\"Mediana\", df['Production Budget'].median())\n",
        "print(\"Moda\", df['Production Budget'].mode())\n",
        "print(\"Variância\", df['Production Budget'].var())\n",
        "print(\"Desvio padrão\", df['Production Budget'].std())"
      ],
      "execution_count": 3,
      "outputs": [
        {
          "output_type": "stream",
          "text": [
            "Média 31069171.4484375\n",
            "Mediana 20000000.0\n",
            "Moda 0    20000000.0\n",
            "dtype: float64\n",
            "Variância 1266357235689727.5\n",
            "Desvio padrão 35585913.44464446\n"
          ],
          "name": "stdout"
        }
      ]
    },
    {
      "cell_type": "markdown",
      "metadata": {
        "id": "oeslD0y_7jtq"
      },
      "source": [
        "### Running Time"
      ]
    },
    {
      "cell_type": "code",
      "metadata": {
        "id": "B1DrvFvm7juC",
        "outputId": "f4ffe99f-6697-4946-8c3f-3d0a32dc3d3f",
        "colab": {
          "base_uri": "https://localhost:8080/"
        }
      },
      "source": [
        "# ADICIONE O SEU CÓDIGO AQUI\n",
        "print(\"Média\", df['Running Time (min)'].mean())\n",
        "print(\"Mediana\", df['Running Time (min)'].median())\n",
        "print(\"Moda\", df['Running Time (min)'].mode())\n",
        "print(\"Variância\", df['Running Time (min)'].var())\n",
        "print(\"Desvio padrão\", df['Running Time (min)'].std())"
      ],
      "execution_count": 5,
      "outputs": [
        {
          "output_type": "stream",
          "text": [
            "Média 110.19354838709677\n",
            "Mediana 107.0\n",
            "Moda 0    95.0\n",
            "dtype: float64\n",
            "Variância 406.8697927793211\n",
            "Desvio padrão 20.171013677535424\n"
          ],
          "name": "stdout"
        }
      ]
    },
    {
      "cell_type": "markdown",
      "metadata": {
        "id": "soUSamX-7ju6"
      },
      "source": [
        "### IMDB Rating"
      ]
    },
    {
      "cell_type": "code",
      "metadata": {
        "id": "pFl2690e7ju8",
        "outputId": "46c708ac-0888-414d-fa43-a53feecf2e1a",
        "colab": {
          "base_uri": "https://localhost:8080/"
        }
      },
      "source": [
        "# ADICIONE O SEU CÓDIGO AQUI\n",
        "print(\"Média\", df['IMDB Rating'].mean())\n",
        "print(\"Mediana\", df['IMDB Rating'].median())\n",
        "print(\"Moda\", df['IMDB Rating'].mode())\n",
        "print(\"Variância\", df['IMDB Rating'].var())\n",
        "print(\"Desvio padrão\", df['IMDB Rating'].std())"
      ],
      "execution_count": 6,
      "outputs": [
        {
          "output_type": "stream",
          "text": [
            "Média 6.283467202141896\n",
            "Mediana 6.4\n",
            "Moda 0    6.7\n",
            "dtype: float64\n",
            "Variância 1.5682300903200033\n",
            "Desvio padrão 1.2522899386004838\n"
          ],
          "name": "stdout"
        }
      ]
    },
    {
      "cell_type": "markdown",
      "metadata": {
        "id": "D8qyv0BP7jxA"
      },
      "source": [
        "### IMDB Votes"
      ]
    },
    {
      "cell_type": "code",
      "metadata": {
        "id": "FmCR_jHG7jx8",
        "outputId": "4d5b8397-d31f-4791-d507-35c23d0f35bf",
        "colab": {
          "base_uri": "https://localhost:8080/"
        }
      },
      "source": [
        "# ADICIONE O SEU CÓDIGO AQUI\n",
        "print(\"Média\", df['IMDB Votes'].mean())\n",
        "print(\"Mediana\", df['IMDB Votes'].median())\n",
        "print(\"Moda\", df['IMDB Votes'].mode())\n",
        "print(\"Variância\", df['IMDB Votes'].var())\n",
        "print(\"Desvio padrão\", df['IMDB Votes'].std())"
      ],
      "execution_count": 7,
      "outputs": [
        {
          "output_type": "stream",
          "text": [
            "Média 29908.64457831325\n",
            "Mediana 15106.0\n",
            "Moda 0       83.0\n",
            "1      134.0\n",
            "2      151.0\n",
            "3      165.0\n",
            "4      520.0\n",
            "5     1795.0\n",
            "6     5147.0\n",
            "7    32159.0\n",
            "dtype: float64\n",
            "Variância 2019386306.1193662\n",
            "Desvio padrão 44937.58233504965\n"
          ],
          "name": "stdout"
        }
      ]
    },
    {
      "cell_type": "markdown",
      "metadata": {
        "id": "W5b-Feee7j1G"
      },
      "source": [
        "### Análise dos Resultados\n",
        "\n",
        "Quais colunas tiveram valores muito diferentes entre média e mediana? Quais os seus desvios padrão?"
      ]
    },
    {
      "cell_type": "markdown",
      "metadata": {
        "id": "8yJq8akr7j2J"
      },
      "source": [
        "**US Gross e IMDB Votes**\n",
        "\n",
        "- US Gross: "
      ]
    },
    {
      "cell_type": "code",
      "metadata": {
        "id": "7i9r7lpUFEHY",
        "outputId": "79f12fb6-9147-4939-c5a1-4ae5296740a9",
        "colab": {
          "base_uri": "https://localhost:8080/"
        }
      },
      "source": [
        "print(\"Desvio padrão\", df['US Gross'].std())"
      ],
      "execution_count": 8,
      "outputs": [
        {
          "output_type": "stream",
          "text": [
            "Desvio padrão 62555311.39066204\n"
          ],
          "name": "stdout"
        }
      ]
    },
    {
      "cell_type": "markdown",
      "metadata": {
        "id": "Djn89KXSFG71"
      },
      "source": [
        "- IMDB Votes:"
      ]
    },
    {
      "cell_type": "code",
      "metadata": {
        "id": "Yb2kzjreFKcj",
        "outputId": "d0ba3582-3cf9-4047-d51b-84778f2dc8a7",
        "colab": {
          "base_uri": "https://localhost:8080/"
        }
      },
      "source": [
        "print(\"Desvio padrão\", df['IMDB Votes'].std())"
      ],
      "execution_count": 9,
      "outputs": [
        {
          "output_type": "stream",
          "text": [
            "Desvio padrão 44937.58233504965\n"
          ],
          "name": "stdout"
        }
      ]
    },
    {
      "cell_type": "markdown",
      "metadata": {
        "id": "ZacfewnX7j2c"
      },
      "source": [
        "Que conclusões podemos tirar desses resultados?"
      ]
    },
    {
      "cell_type": "markdown",
      "metadata": {
        "id": "TDvbDgnE7j3R"
      },
      "source": [
        "**Existem valores descrepantes para as colunas US Gross e IMDB Votes, pelos seus desvio padrão ser muito grande, estão longe da média**"
      ]
    },
    {
      "cell_type": "code",
      "metadata": {
        "id": "YL7Zc94cK-2z"
      },
      "source": [
        ""
      ],
      "execution_count": null,
      "outputs": []
    }
  ]
}