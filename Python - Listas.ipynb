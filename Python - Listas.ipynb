{
 "cells": [
  {
   "cell_type": "markdown",
   "metadata": {},
   "source": [
    "# Introdução à Ciência de Dados - UFPB\n",
    "Professor: Yuri Malheiros\n",
    "\n",
    "## Python - Listas"
   ]
  },
  {
   "cell_type": "markdown",
   "metadata": {},
   "source": [
    "Listas são provavelmente a estrutura de dados mais usadas da linguagem. Elas são coleções ordenadas de elmentos."
   ]
  },
  {
   "cell_type": "markdown",
   "metadata": {},
   "source": [
    "Para criar uma lista, temos:"
   ]
  },
  {
   "cell_type": "code",
   "execution_count": 4,
   "metadata": {},
   "outputs": [],
   "source": [
    "numbers = [1, 2, 3]"
   ]
  },
  {
   "cell_type": "markdown",
   "metadata": {},
   "source": [
    "Uma lista pode elementos de tipos diferentes, incluindo outras listas:"
   ]
  },
  {
   "cell_type": "code",
   "execution_count": 5,
   "metadata": {},
   "outputs": [
    {
     "data": {
      "text/plain": [
       "['text', 10, True, 0.1, [1, 2, 3]]"
      ]
     },
     "execution_count": 5,
     "metadata": {},
     "output_type": "execute_result"
    }
   ],
   "source": [
    "mixed_list = [\"text\", 10, True, 0.1, numbers]\n",
    "mixed_list"
   ]
  },
  {
   "cell_type": "markdown",
   "metadata": {},
   "source": [
    "Para acessar elementos de uma lista, usamos o seu índice correspondente:"
   ]
  },
  {
   "cell_type": "code",
   "execution_count": 6,
   "metadata": {},
   "outputs": [
    {
     "name": "stdout",
     "output_type": "stream",
     "text": [
      "text\n",
      "10\n",
      "True\n"
     ]
    }
   ],
   "source": [
    "print(mixed_list[0])\n",
    "print(mixed_list[1])\n",
    "print(mixed_list[2])"
   ]
  },
  {
   "cell_type": "markdown",
   "metadata": {},
   "source": [
    "Python suporta índices negativos. -1 indica o último elementos, -2 o penúltimo e assim sucessivamente:"
   ]
  },
  {
   "cell_type": "code",
   "execution_count": 7,
   "metadata": {},
   "outputs": [
    {
     "name": "stdout",
     "output_type": "stream",
     "text": [
      "[1, 2, 3]\n",
      "0.1\n"
     ]
    }
   ],
   "source": [
    "print(mixed_list[-1])\n",
    "print(mixed_list[-2])"
   ]
  },
  {
   "cell_type": "markdown",
   "metadata": {},
   "source": [
    "O operador `in` checa se um elemento está na lista:"
   ]
  },
  {
   "cell_type": "code",
   "execution_count": 14,
   "metadata": {},
   "outputs": [
    {
     "name": "stdout",
     "output_type": "stream",
     "text": [
      "True\n",
      "False\n"
     ]
    }
   ],
   "source": [
    "print(1 in numbers)\n",
    "print(10 in numbers)"
   ]
  },
  {
   "cell_type": "markdown",
   "metadata": {},
   "source": [
    "### Slices"
   ]
  },
  {
   "cell_type": "markdown",
   "metadata": {},
   "source": [
    "Além de acessar elementos individualmente, também podemos acessar fatias (slices) das listas:"
   ]
  },
  {
   "cell_type": "code",
   "execution_count": 10,
   "metadata": {},
   "outputs": [],
   "source": [
    "letters = [\"a\", \"b\", \"c\", \"d\", \"e\", \"f\", \"g\", \"h\", \"i\", \"j\"]"
   ]
  },
  {
   "cell_type": "code",
   "execution_count": 12,
   "metadata": {},
   "outputs": [
    {
     "data": {
      "text/plain": [
       "['c', 'd', 'e']"
      ]
     },
     "execution_count": 12,
     "metadata": {},
     "output_type": "execute_result"
    }
   ],
   "source": [
    "letters[2:5]"
   ]
  },
  {
   "cell_type": "markdown",
   "metadata": {},
   "source": [
    "No exemplo acima, foi retornada a lista que começa no elemento da posição 2 (3o elemento) até antes do elemento da posição 5 (6o elemento)."
   ]
  },
  {
   "cell_type": "markdown",
   "metadata": {},
   "source": [
    "Omitindo o número antes do `:`, o Python vai considerar que o slice inicia no primeiro da lista. Omitidindo o número depois do `:`, o slice termina no última elemento da lista."
   ]
  },
  {
   "cell_type": "code",
   "execution_count": 13,
   "metadata": {},
   "outputs": [
    {
     "name": "stdout",
     "output_type": "stream",
     "text": [
      "['a', 'b', 'c', 'd', 'e']\n",
      "['f', 'g', 'h', 'i', 'j']\n"
     ]
    }
   ],
   "source": [
    "print(letters[:5])\n",
    "print(letters[5:])"
   ]
  },
  {
   "cell_type": "markdown",
   "metadata": {},
   "source": [
    "### Adicionando Elementos"
   ]
  },
  {
   "cell_type": "markdown",
   "metadata": {},
   "source": [
    "O método `.append()` adiciona um elemento no final de uma lista:"
   ]
  },
  {
   "cell_type": "code",
   "execution_count": 15,
   "metadata": {},
   "outputs": [
    {
     "name": "stdout",
     "output_type": "stream",
     "text": [
      "[1, 2, 3]\n",
      "[1, 2, 3, 4]\n"
     ]
    }
   ],
   "source": [
    "print(numbers)\n",
    "\n",
    "numbers.append(4)\n",
    "\n",
    "print(numbers)"
   ]
  },
  {
   "cell_type": "markdown",
   "metadata": {},
   "source": [
    "O método `.extend()` adiciona todos os elementos de uma lista em outra lista:"
   ]
  },
  {
   "cell_type": "code",
   "execution_count": 16,
   "metadata": {},
   "outputs": [
    {
     "name": "stdout",
     "output_type": "stream",
     "text": [
      "[1, 2, 3, 4]\n",
      "[1, 2, 3, 4, 10, 20, 30]\n"
     ]
    }
   ],
   "source": [
    "print(numbers)\n",
    "\n",
    "numbers.extend([10, 20, 30])\n",
    "\n",
    "print(numbers)"
   ]
  },
  {
   "cell_type": "markdown",
   "metadata": {},
   "source": [
    "### Funções"
   ]
  },
  {
   "cell_type": "markdown",
   "metadata": {},
   "source": [
    "Algumas funções nativas podem ser aplicadas diretamente às listas. Abaixo temos alguns exemplos:"
   ]
  },
  {
   "cell_type": "code",
   "execution_count": 17,
   "metadata": {},
   "outputs": [
    {
     "data": {
      "text/plain": [
       "7"
      ]
     },
     "execution_count": 17,
     "metadata": {},
     "output_type": "execute_result"
    }
   ],
   "source": [
    "len(numbers)  # retorna o tamanho da lista"
   ]
  },
  {
   "cell_type": "code",
   "execution_count": 18,
   "metadata": {},
   "outputs": [
    {
     "data": {
      "text/plain": [
       "70"
      ]
     },
     "execution_count": 18,
     "metadata": {},
     "output_type": "execute_result"
    }
   ],
   "source": [
    "sum(numbers)  # soma os elementos da lista"
   ]
  },
  {
   "cell_type": "code",
   "execution_count": 20,
   "metadata": {},
   "outputs": [
    {
     "data": {
      "text/plain": [
       "1"
      ]
     },
     "execution_count": 20,
     "metadata": {},
     "output_type": "execute_result"
    }
   ],
   "source": [
    "min(numbers)  # retorna o menor elemento da lista"
   ]
  },
  {
   "cell_type": "code",
   "execution_count": 21,
   "metadata": {},
   "outputs": [
    {
     "data": {
      "text/plain": [
       "30"
      ]
     },
     "execution_count": 21,
     "metadata": {},
     "output_type": "execute_result"
    }
   ],
   "source": [
    "max(numbers)  # retorna o maior elemento da lista"
   ]
  },
  {
   "cell_type": "markdown",
   "metadata": {},
   "source": [
    "### List Comprehensions"
   ]
  },
  {
   "cell_type": "markdown",
   "metadata": {},
   "source": [
    "Frequentemente, queremos acessar os elementos de uma lista, transformá-los e, por fim, gerar uma nova lista. Dada a lista `[1,2,3,4,5]`, como gerar uma nova lista com o dobro de todos os valores?"
   ]
  },
  {
   "cell_type": "code",
   "execution_count": 22,
   "metadata": {},
   "outputs": [
    {
     "data": {
      "text/plain": [
       "[2, 4, 6, 8, 10]"
      ]
     },
     "execution_count": 22,
     "metadata": {},
     "output_type": "execute_result"
    }
   ],
   "source": [
    "a_list = [1, 2, 3, 4, 5]\n",
    "new_list = []\n",
    "\n",
    "for element in a_list:\n",
    "    new_list.append(element*2)\n",
    "    \n",
    "new_list"
   ]
  },
  {
   "cell_type": "markdown",
   "metadata": {},
   "source": [
    "Esta solução funciona, mas temos muito código para fazer uma operação simples."
   ]
  },
  {
   "cell_type": "markdown",
   "metadata": {},
   "source": [
    "Uma list comprehension executa este tipo de operação de forma muito mais enxuta:"
   ]
  },
  {
   "cell_type": "code",
   "execution_count": 23,
   "metadata": {},
   "outputs": [
    {
     "data": {
      "text/plain": [
       "[2, 4, 6, 8, 10]"
      ]
     },
     "execution_count": 23,
     "metadata": {},
     "output_type": "execute_result"
    }
   ],
   "source": [
    "new_list = [element*2 for element in a_list]\n",
    "new_list"
   ]
  },
  {
   "cell_type": "markdown",
   "metadata": {},
   "source": [
    "Podemos ainda adicionar condições a lista comprehension para que apenas os elementos que satisfizerem uma certa condição sejam considerados. No exemplo abaixo, vamos dobrar apenas os números pares:"
   ]
  },
  {
   "cell_type": "code",
   "execution_count": 24,
   "metadata": {},
   "outputs": [
    {
     "data": {
      "text/plain": [
       "[4, 8]"
      ]
     },
     "execution_count": 24,
     "metadata": {},
     "output_type": "execute_result"
    }
   ],
   "source": [
    "new_list = [element*2 for element in a_list if element % 2 == 0]\n",
    "new_list"
   ]
  },
  {
   "cell_type": "markdown",
   "metadata": {},
   "source": [
    "### Exemplo"
   ]
  },
  {
   "cell_type": "markdown",
   "metadata": {},
   "source": [
    "A seguir temos uma lista de strings no formato \"nome do artista - nome da música\". Vamos processar essa lista para gerar uma lista de dicionários do tipo {\"artist\": nome do artista, \"song\": nome da música}."
   ]
  },
  {
   "cell_type": "code",
   "execution_count": 26,
   "metadata": {},
   "outputs": [],
   "source": [
    "top_10 = [\"Tones and I - Dance Monkey\", \"Lady Gaga, Ariana Grande - Rain on Me\",\n",
    "          \"Justin Bieber - Yummy\", \"MISCHO - Photon Love\", \"Dua Lipa - Break My Heart\",\n",
    "          \"Lady Gaga, BLACKPINK - Sour Candy\", \"Dua Lipa - Don't Start Now\",\n",
    "          \"Justin Bieber, Quavo - Intentions\", \"Doja Cat - Say So\",\n",
    "          \"Karol G, Nicki Minaj - Tusa\", \"Benee, Gus Dapperton - Supalonely\"]"
   ]
  },
  {
   "cell_type": "code",
   "execution_count": 29,
   "metadata": {},
   "outputs": [
    {
     "data": {
      "text/plain": [
       "[{'artist': 'Tones and I', 'song': 'Dance Monkey'},\n",
       " {'artist': 'Lady Gaga, Ariana Grande', 'song': 'Rain on Me'},\n",
       " {'artist': 'Justin Bieber', 'song': 'Yummy'},\n",
       " {'artist': 'MISCHO', 'song': 'Photon Love'},\n",
       " {'artist': 'Dua Lipa', 'song': 'Break My Heart'},\n",
       " {'artist': 'Lady Gaga, BLACKPINK', 'song': 'Sour Candy'},\n",
       " {'artist': 'Dua Lipa', 'song': \"Don't Start Now\"},\n",
       " {'artist': 'Justin Bieber, Quavo', 'song': 'Intentions'},\n",
       " {'artist': 'Doja Cat', 'song': 'Say So'},\n",
       " {'artist': 'Karol G, Nicki Minaj', 'song': 'Tusa'},\n",
       " {'artist': 'Benee, Gus Dapperton', 'song': 'Supalonely'}]"
      ]
     },
     "execution_count": 29,
     "metadata": {},
     "output_type": "execute_result"
    }
   ],
   "source": [
    "top_10_dict = [{\"artist\": x.split(\" - \")[0], \"song\": x.split(\" - \")[1]} for x in top_10]\n",
    "top_10_dict"
   ]
  }
 ],
 "metadata": {
  "kernelspec": {
   "display_name": "icd",
   "language": "python",
   "name": "icd"
  },
  "language_info": {
   "codemirror_mode": {
    "name": "ipython",
    "version": 3
   },
   "file_extension": ".py",
   "mimetype": "text/x-python",
   "name": "python",
   "nbconvert_exporter": "python",
   "pygments_lexer": "ipython3",
   "version": "3.7.7"
  }
 },
 "nbformat": 4,
 "nbformat_minor": 4
}
