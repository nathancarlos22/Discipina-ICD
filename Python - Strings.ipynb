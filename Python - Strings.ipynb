{
 "cells": [
  {
   "cell_type": "markdown",
   "metadata": {},
   "source": [
    "# Introdução à Ciência de Dados - UFPB\n",
    "Professor: Yuri Malheiros\n",
    "\n",
    "## Python - Strings"
   ]
  },
  {
   "cell_type": "markdown",
   "metadata": {},
   "source": [
    "Strings representam uma sequência de caracteres. Este é o tipo de dado que usamos para representar texto."
   ]
  },
  {
   "cell_type": "markdown",
   "metadata": {},
   "source": [
    "Para criar um string colocamos os caracteres entre aspas simples ou duplas:"
   ]
  },
  {
   "cell_type": "code",
   "execution_count": 1,
   "metadata": {},
   "outputs": [],
   "source": [
    "first_name = 'João'\n",
    "last_name = \"Silva\""
   ]
  },
  {
   "cell_type": "markdown",
   "metadata": {},
   "source": [
    "Alguns caracteres especiais são represetados usando contrabarras. Por exemplo, `\\n` representa uma quebra de linha e `\\t` representa um tab."
   ]
  },
  {
   "cell_type": "code",
   "execution_count": 2,
   "metadata": {},
   "outputs": [
    {
     "name": "stdout",
     "output_type": "stream",
     "text": [
      "By and by Man will try\n",
      "To get out into the sky,\n",
      "Sailing far beyond the air\n",
      "From Down and Here to Up and There.\n"
     ]
    }
   ],
   "source": [
    "poem = \"By and by Man will try\\nTo get out into the sky,\\nSailing far beyond the air\\nFrom Down and Here to Up and There.\"\n",
    "print(poem)"
   ]
  },
  {
   "cell_type": "markdown",
   "metadata": {},
   "source": [
    "Para representar uma contrabarra, usamos `\"\\\\\"`:"
   ]
  },
  {
   "cell_type": "code",
   "execution_count": 3,
   "metadata": {},
   "outputs": [
    {
     "name": "stdout",
     "output_type": "stream",
     "text": [
      "Essa é uma contrabarra: \\\n"
     ]
    }
   ],
   "source": [
    "print(\"Essa é uma contrabarra: \\\\\")"
   ]
  },
  {
   "cell_type": "markdown",
   "metadata": {},
   "source": [
    "Para strings com múltiplas linhas, também podemos usar a sintaxe:"
   ]
  },
  {
   "cell_type": "code",
   "execution_count": 4,
   "metadata": {},
   "outputs": [
    {
     "name": "stdout",
     "output_type": "stream",
     "text": [
      "By and by Man will try \n",
      "To get out into the sky, \n",
      "Sailing far beyond the air \n",
      "From Down and Here to Up and There.\n"
     ]
    }
   ],
   "source": [
    "poem = \"\"\"By and by Man will try \n",
    "To get out into the sky, \n",
    "Sailing far beyond the air \n",
    "From Down and Here to Up and There.\"\"\"\n",
    "\n",
    "print(poem)"
   ]
  },
  {
   "cell_type": "markdown",
   "metadata": {},
   "source": [
    "Muitas vezes, nós queremos combinar strings com valores de variáveis:"
   ]
  },
  {
   "cell_type": "code",
   "execution_count": 5,
   "metadata": {},
   "outputs": [
    {
     "data": {
      "text/plain": [
       "'Olá, João Silva'"
      ]
     },
     "execution_count": 5,
     "metadata": {},
     "output_type": "execute_result"
    }
   ],
   "source": [
    "text = \"Olá, \" + first_name + \" \" + last_name\n",
    "text"
   ]
  },
  {
   "cell_type": "markdown",
   "metadata": {},
   "source": [
    "A partir do Python 3.6 foi introduzido os f-strings, que fornecem uma maneira mais simples de incorporar valores em um string."
   ]
  },
  {
   "cell_type": "code",
   "execution_count": 6,
   "metadata": {},
   "outputs": [
    {
     "data": {
      "text/plain": [
       "'Olá, João Silva'"
      ]
     },
     "execution_count": 6,
     "metadata": {},
     "output_type": "execute_result"
    }
   ],
   "source": [
    "text = f\"Olá, {first_name} {last_name}\"\n",
    "text"
   ]
  },
  {
   "cell_type": "markdown",
   "metadata": {},
   "source": [
    "### Métodos"
   ]
  },
  {
   "cell_type": "markdown",
   "metadata": {},
   "source": [
    "Os strings possuem alguns métodos para processá-los e para obter algumas informações ao seu respeito. Abaixo temos alguns exemplos:"
   ]
  },
  {
   "cell_type": "code",
   "execution_count": 7,
   "metadata": {},
   "outputs": [
    {
     "data": {
      "text/plain": [
       "'JOÃO'"
      ]
     },
     "execution_count": 7,
     "metadata": {},
     "output_type": "execute_result"
    }
   ],
   "source": [
    "first_name.upper()  # retorna o string todo em maiúsculo"
   ]
  },
  {
   "cell_type": "code",
   "execution_count": 8,
   "metadata": {},
   "outputs": [
    {
     "data": {
      "text/plain": [
       "'joão'"
      ]
     },
     "execution_count": 8,
     "metadata": {},
     "output_type": "execute_result"
    }
   ],
   "source": [
    "first_name.lower()  # retorna o string todo em minúsculo"
   ]
  },
  {
   "cell_type": "code",
   "execution_count": 9,
   "metadata": {},
   "outputs": [
    {
     "data": {
      "text/plain": [
       "'João'"
      ]
     },
     "execution_count": 9,
     "metadata": {},
     "output_type": "execute_result"
    }
   ],
   "source": [
    "first_name.capitalize()  # retorna o string com a primeira letra maiúscula e as outras em minúsculo"
   ]
  },
  {
   "cell_type": "code",
   "execution_count": 10,
   "metadata": {},
   "outputs": [
    {
     "data": {
      "text/plain": [
       "2"
      ]
     },
     "execution_count": 10,
     "metadata": {},
     "output_type": "execute_result"
    }
   ],
   "source": [
    "first_name.count(\"o\")  # retorna a contagem da sequência de caracteres passada como parâmetro"
   ]
  },
  {
   "cell_type": "code",
   "execution_count": 11,
   "metadata": {},
   "outputs": [
    {
     "data": {
      "text/plain": [
       "'Jxãx'"
      ]
     },
     "execution_count": 11,
     "metadata": {},
     "output_type": "execute_result"
    }
   ],
   "source": [
    "# substitui a sequência de caracteres passada como o primeiro parâmetro\n",
    "# pela sequência passada como o segundo parâmetro e retorna o novo string\n",
    "first_name.replace(\"o\", \"x\")"
   ]
  },
  {
   "cell_type": "code",
   "execution_count": 12,
   "metadata": {},
   "outputs": [
    {
     "data": {
      "text/plain": [
       "'hello'"
      ]
     },
     "execution_count": 12,
     "metadata": {},
     "output_type": "execute_result"
    }
   ],
   "source": [
    "text = \"  hello   \"\n",
    "text.strip()  # remove espaços no início e no fim do string e retorna o novo string"
   ]
  },
  {
   "cell_type": "code",
   "execution_count": 13,
   "metadata": {},
   "outputs": [
    {
     "data": {
      "text/plain": [
       "['joao', 'maria', 'jose']"
      ]
     },
     "execution_count": 13,
     "metadata": {},
     "output_type": "execute_result"
    }
   ],
   "source": [
    "# divide o string em strings menores de acordo com a sequência de caracteres passada como parâmetro\n",
    "# o resultado retornado é uma lista com os strings menores\n",
    "\n",
    "text = \"joao,maria,jose\"\n",
    "text.split(\",\")"
   ]
  },
  {
   "cell_type": "code",
   "execution_count": 14,
   "metadata": {},
   "outputs": [
    {
     "data": {
      "text/plain": [
       "'joao, maria, jose'"
      ]
     },
     "execution_count": 14,
     "metadata": {},
     "output_type": "execute_result"
    }
   ],
   "source": [
    "# junta strings de uma lista colocando a sequência de caracteres,\n",
    "# neste caso o conteúdo da variável separator, entre os elementos,\n",
    "# o resultado retornado é o string obtido dessa junção\n",
    "\n",
    "a_list = [\"joao\", \"maria\", \"jose\"]\n",
    "separator = \", \"\n",
    "\n",
    "separator.join(a_list)"
   ]
  }
 ],
 "metadata": {
  "kernelspec": {
   "display_name": "icd",
   "language": "python",
   "name": "icd"
  },
  "language_info": {
   "codemirror_mode": {
    "name": "ipython",
    "version": 3
   },
   "file_extension": ".py",
   "mimetype": "text/x-python",
   "name": "python",
   "nbconvert_exporter": "python",
   "pygments_lexer": "ipython3",
   "version": "3.7.7"
  }
 },
 "nbformat": 4,
 "nbformat_minor": 4
}
