{
  "nbformat": 4,
  "nbformat_minor": 0,
  "metadata": {
    "kernelspec": {
      "display_name": "icd",
      "language": "python",
      "name": "icd"
    },
    "language_info": {
      "codemirror_mode": {
        "name": "ipython",
        "version": 3
      },
      "file_extension": ".py",
      "mimetype": "text/x-python",
      "name": "python",
      "nbconvert_exporter": "python",
      "pygments_lexer": "ipython3",
      "version": "3.7.7"
    },
    "colab": {
      "name": "Exercício - Correlação.ipynb",
      "provenance": []
    }
  },
  "cells": [
    {
      "cell_type": "markdown",
      "metadata": {
        "id": "UlTEvp2Cti4L"
      },
      "source": [
        "# Introdução à Ciência de Dados - UFPB\n",
        "Professor: Yuri Malheiros\n",
        "\n",
        "## Correlação"
      ]
    },
    {
      "cell_type": "markdown",
      "metadata": {
        "id": "Npuh3qTJti4Q"
      },
      "source": [
        "Colete os seguintes dados dos times do campeonato brasileiro de 2019:\n",
        "\n",
        "- Pontos\n",
        "- Gols marcados\n",
        "- Gol sofridos\n",
        "\n",
        "Você pode encontrar esses dados no site da CBF (www.cbf.com.br)\n",
        "\n",
        "Calcule a correlação entre:\n",
        "\n",
        "- Pontos e gols marcados\n",
        "- Pontos e gols sofridos"
      ]
    },
    {
      "cell_type": "code",
      "metadata": {
        "id": "uV4Jpe9u1UOz"
      },
      "source": [
        "import pandas as pd"
      ],
      "execution_count": 3,
      "outputs": []
    },
    {
      "cell_type": "code",
      "metadata": {
        "id": "QLWgvPMguG_1"
      },
      "source": [
        "times = ['Flamengo', 'Santos','Palmeiras', 'Grêmio', 'Athletico Paranaense', 'São Paulo', 'Internacional', 'Corinthians', 'Fortaleza',\n",
        "         'Goiás', 'Bahia', 'Vasco da Gama', 'Atlético', 'Fluminense', 'Botafogo', 'Ceará', 'Cruzeiro', 'Csa', 'Chapecoense', 'Avaí']\n",
        "pontos = []\n",
        "gols_marcados = []\n",
        "gols_sofridos = []"
      ],
      "execution_count": 11,
      "outputs": []
    },
    {
      "cell_type": "code",
      "metadata": {
        "id": "D_WkBcqqtmct"
      },
      "source": [
        "pontos_gols = [[90,86,37], [74,60,33], [74,61,32], [65,64,39], [64,51,32], [63,39,30], [57,44,38], [56,42,34],\n",
        "        [53,50,49], [52,46,64],[ 49,44,43],[49,39,45], [48,44,49], [46,38,46],[ 43,31,45], [39,36,41], [36,27,46],\n",
        "        [32,24,58], [32,31,52], [20,18,62]]\n",
        "for ponto in pontos_gols:\n",
        "  pontos.append(ponto[0])\n",
        "  gols_marcados.append(ponto[1])\n",
        "  gols_sofridos.append(ponto[2])"
      ],
      "execution_count": 13,
      "outputs": []
    },
    {
      "cell_type": "code",
      "metadata": {
        "id": "M8VtRVib1Tir",
        "outputId": "79d92159-938b-490d-e9d5-b43d97e0fb99",
        "colab": {
          "base_uri": "https://localhost:8080/",
          "height": 669
        }
      },
      "source": [
        "df = pd.DataFrame(data={'Pontos':pontos, 'Gols Marcados':gols_marcados, 'Gols Sofridos':gols_sofridos}, index=times)\n",
        "# df['gols marcados'] = pontos\n",
        "df"
      ],
      "execution_count": 15,
      "outputs": [
        {
          "output_type": "execute_result",
          "data": {
            "text/html": [
              "<div>\n",
              "<style scoped>\n",
              "    .dataframe tbody tr th:only-of-type {\n",
              "        vertical-align: middle;\n",
              "    }\n",
              "\n",
              "    .dataframe tbody tr th {\n",
              "        vertical-align: top;\n",
              "    }\n",
              "\n",
              "    .dataframe thead th {\n",
              "        text-align: right;\n",
              "    }\n",
              "</style>\n",
              "<table border=\"1\" class=\"dataframe\">\n",
              "  <thead>\n",
              "    <tr style=\"text-align: right;\">\n",
              "      <th></th>\n",
              "      <th>Pontos</th>\n",
              "      <th>Gols Marcados</th>\n",
              "      <th>Gols Sofridos</th>\n",
              "    </tr>\n",
              "  </thead>\n",
              "  <tbody>\n",
              "    <tr>\n",
              "      <th>Flamengo</th>\n",
              "      <td>90</td>\n",
              "      <td>86</td>\n",
              "      <td>37</td>\n",
              "    </tr>\n",
              "    <tr>\n",
              "      <th>Santos</th>\n",
              "      <td>74</td>\n",
              "      <td>60</td>\n",
              "      <td>33</td>\n",
              "    </tr>\n",
              "    <tr>\n",
              "      <th>Palmeiras</th>\n",
              "      <td>74</td>\n",
              "      <td>61</td>\n",
              "      <td>32</td>\n",
              "    </tr>\n",
              "    <tr>\n",
              "      <th>Grêmio</th>\n",
              "      <td>65</td>\n",
              "      <td>64</td>\n",
              "      <td>39</td>\n",
              "    </tr>\n",
              "    <tr>\n",
              "      <th>Athletico Paranaense</th>\n",
              "      <td>64</td>\n",
              "      <td>51</td>\n",
              "      <td>32</td>\n",
              "    </tr>\n",
              "    <tr>\n",
              "      <th>São Paulo</th>\n",
              "      <td>63</td>\n",
              "      <td>39</td>\n",
              "      <td>30</td>\n",
              "    </tr>\n",
              "    <tr>\n",
              "      <th>Internacional</th>\n",
              "      <td>57</td>\n",
              "      <td>44</td>\n",
              "      <td>38</td>\n",
              "    </tr>\n",
              "    <tr>\n",
              "      <th>Corinthians</th>\n",
              "      <td>56</td>\n",
              "      <td>42</td>\n",
              "      <td>34</td>\n",
              "    </tr>\n",
              "    <tr>\n",
              "      <th>Fortaleza</th>\n",
              "      <td>53</td>\n",
              "      <td>50</td>\n",
              "      <td>49</td>\n",
              "    </tr>\n",
              "    <tr>\n",
              "      <th>Goiás</th>\n",
              "      <td>52</td>\n",
              "      <td>46</td>\n",
              "      <td>64</td>\n",
              "    </tr>\n",
              "    <tr>\n",
              "      <th>Bahia</th>\n",
              "      <td>49</td>\n",
              "      <td>44</td>\n",
              "      <td>43</td>\n",
              "    </tr>\n",
              "    <tr>\n",
              "      <th>Vasco da Gama</th>\n",
              "      <td>49</td>\n",
              "      <td>39</td>\n",
              "      <td>45</td>\n",
              "    </tr>\n",
              "    <tr>\n",
              "      <th>Atlético</th>\n",
              "      <td>48</td>\n",
              "      <td>44</td>\n",
              "      <td>49</td>\n",
              "    </tr>\n",
              "    <tr>\n",
              "      <th>Fluminense</th>\n",
              "      <td>46</td>\n",
              "      <td>38</td>\n",
              "      <td>46</td>\n",
              "    </tr>\n",
              "    <tr>\n",
              "      <th>Botafogo</th>\n",
              "      <td>43</td>\n",
              "      <td>31</td>\n",
              "      <td>45</td>\n",
              "    </tr>\n",
              "    <tr>\n",
              "      <th>Ceará</th>\n",
              "      <td>39</td>\n",
              "      <td>36</td>\n",
              "      <td>41</td>\n",
              "    </tr>\n",
              "    <tr>\n",
              "      <th>Cruzeiro</th>\n",
              "      <td>36</td>\n",
              "      <td>27</td>\n",
              "      <td>46</td>\n",
              "    </tr>\n",
              "    <tr>\n",
              "      <th>Csa</th>\n",
              "      <td>32</td>\n",
              "      <td>24</td>\n",
              "      <td>58</td>\n",
              "    </tr>\n",
              "    <tr>\n",
              "      <th>Chapecoense</th>\n",
              "      <td>32</td>\n",
              "      <td>31</td>\n",
              "      <td>52</td>\n",
              "    </tr>\n",
              "    <tr>\n",
              "      <th>Avaí</th>\n",
              "      <td>20</td>\n",
              "      <td>18</td>\n",
              "      <td>62</td>\n",
              "    </tr>\n",
              "  </tbody>\n",
              "</table>\n",
              "</div>"
            ],
            "text/plain": [
              "                      Pontos  Gols Marcados  Gols Sofridos\n",
              "Flamengo                  90             86             37\n",
              "Santos                    74             60             33\n",
              "Palmeiras                 74             61             32\n",
              "Grêmio                    65             64             39\n",
              "Athletico Paranaense      64             51             32\n",
              "São Paulo                 63             39             30\n",
              "Internacional             57             44             38\n",
              "Corinthians               56             42             34\n",
              "Fortaleza                 53             50             49\n",
              "Goiás                     52             46             64\n",
              "Bahia                     49             44             43\n",
              "Vasco da Gama             49             39             45\n",
              "Atlético                  48             44             49\n",
              "Fluminense                46             38             46\n",
              "Botafogo                  43             31             45\n",
              "Ceará                     39             36             41\n",
              "Cruzeiro                  36             27             46\n",
              "Csa                       32             24             58\n",
              "Chapecoense               32             31             52\n",
              "Avaí                      20             18             62"
            ]
          },
          "metadata": {
            "tags": []
          },
          "execution_count": 15
        }
      ]
    },
    {
      "cell_type": "markdown",
      "metadata": {
        "id": "nGAYbNakti4T"
      },
      "source": [
        "### Correlação entre Pontos e gols marcados"
      ]
    },
    {
      "cell_type": "code",
      "metadata": {
        "id": "bYsJXG9Tti4V",
        "outputId": "b5274f20-d0a9-46ae-938a-807e56d2c1b6",
        "colab": {
          "base_uri": "https://localhost:8080/",
          "height": 111
        }
      },
      "source": [
        "# ADICIONE O SEU CÓDIGO AQUI\n",
        "df[['Pontos', 'Gols Marcados']].corr()"
      ],
      "execution_count": 18,
      "outputs": [
        {
          "output_type": "execute_result",
          "data": {
            "text/html": [
              "<div>\n",
              "<style scoped>\n",
              "    .dataframe tbody tr th:only-of-type {\n",
              "        vertical-align: middle;\n",
              "    }\n",
              "\n",
              "    .dataframe tbody tr th {\n",
              "        vertical-align: top;\n",
              "    }\n",
              "\n",
              "    .dataframe thead th {\n",
              "        text-align: right;\n",
              "    }\n",
              "</style>\n",
              "<table border=\"1\" class=\"dataframe\">\n",
              "  <thead>\n",
              "    <tr style=\"text-align: right;\">\n",
              "      <th></th>\n",
              "      <th>Pontos</th>\n",
              "      <th>Gols Marcados</th>\n",
              "    </tr>\n",
              "  </thead>\n",
              "  <tbody>\n",
              "    <tr>\n",
              "      <th>Pontos</th>\n",
              "      <td>1.000000</td>\n",
              "      <td>0.936469</td>\n",
              "    </tr>\n",
              "    <tr>\n",
              "      <th>Gols Marcados</th>\n",
              "      <td>0.936469</td>\n",
              "      <td>1.000000</td>\n",
              "    </tr>\n",
              "  </tbody>\n",
              "</table>\n",
              "</div>"
            ],
            "text/plain": [
              "                 Pontos  Gols Marcados\n",
              "Pontos         1.000000       0.936469\n",
              "Gols Marcados  0.936469       1.000000"
            ]
          },
          "metadata": {
            "tags": []
          },
          "execution_count": 18
        }
      ]
    },
    {
      "cell_type": "markdown",
      "metadata": {
        "id": "6p6izk3Jti4e"
      },
      "source": [
        "### Correlação entre Pontos e gols sofridos"
      ]
    },
    {
      "cell_type": "code",
      "metadata": {
        "id": "0MQ4sz_Nti4g",
        "outputId": "3fc7ffb4-0b36-4213-a2f5-49d4f2fd2404",
        "colab": {
          "base_uri": "https://localhost:8080/",
          "height": 111
        }
      },
      "source": [
        "# ADICIONE O SEU CÓDIGO AQUI\n",
        "df[['Pontos', 'Gols Sofridos']].corr()"
      ],
      "execution_count": 19,
      "outputs": [
        {
          "output_type": "execute_result",
          "data": {
            "text/html": [
              "<div>\n",
              "<style scoped>\n",
              "    .dataframe tbody tr th:only-of-type {\n",
              "        vertical-align: middle;\n",
              "    }\n",
              "\n",
              "    .dataframe tbody tr th {\n",
              "        vertical-align: top;\n",
              "    }\n",
              "\n",
              "    .dataframe thead th {\n",
              "        text-align: right;\n",
              "    }\n",
              "</style>\n",
              "<table border=\"1\" class=\"dataframe\">\n",
              "  <thead>\n",
              "    <tr style=\"text-align: right;\">\n",
              "      <th></th>\n",
              "      <th>Pontos</th>\n",
              "      <th>Gols Sofridos</th>\n",
              "    </tr>\n",
              "  </thead>\n",
              "  <tbody>\n",
              "    <tr>\n",
              "      <th>Pontos</th>\n",
              "      <td>1.000000</td>\n",
              "      <td>-0.715796</td>\n",
              "    </tr>\n",
              "    <tr>\n",
              "      <th>Gols Sofridos</th>\n",
              "      <td>-0.715796</td>\n",
              "      <td>1.000000</td>\n",
              "    </tr>\n",
              "  </tbody>\n",
              "</table>\n",
              "</div>"
            ],
            "text/plain": [
              "                 Pontos  Gols Sofridos\n",
              "Pontos         1.000000      -0.715796\n",
              "Gols Sofridos -0.715796       1.000000"
            ]
          },
          "metadata": {
            "tags": []
          },
          "execution_count": 19
        }
      ]
    },
    {
      "cell_type": "markdown",
      "metadata": {
        "id": "Lu9mSwV_ti4p"
      },
      "source": [
        "### Análise dos Resultados\n",
        "\n",
        "Qual o nível (fraco, moderado, forte) das correlações entre as variáveis analisadas?\n"
      ]
    },
    {
      "cell_type": "markdown",
      "metadata": {
        "id": "mDWsbrRJti4q"
      },
      "source": [
        "**Correlação entre Pontos e gols marcados: 0.9 está na categoria muito forte e a\n",
        "Correlação entre Pontos e gols sofridos: 0.7 está na categoria forte**"
      ]
    },
    {
      "cell_type": "markdown",
      "metadata": {
        "id": "UfuYWILOti4r"
      },
      "source": [
        "De acordo com os dados analisados, é melhor um time focar em marcar mais gols ou sofrer menos gols?"
      ]
    },
    {
      "cell_type": "markdown",
      "metadata": {
        "id": "I1NTmBp3ti4t"
      },
      "source": [
        "**É melhor focar em marcar mais gols, pois a correlação é mais proximo de 1 do que gols sofridos**"
      ]
    },
    {
      "cell_type": "code",
      "metadata": {
        "id": "uuCUFD9E-b1-"
      },
      "source": [
        ""
      ],
      "execution_count": null,
      "outputs": []
    }
  ]
}