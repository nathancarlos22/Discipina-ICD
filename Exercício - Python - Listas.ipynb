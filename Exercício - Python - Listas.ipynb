{
 "cells": [
  {
   "cell_type": "markdown",
   "metadata": {},
   "source": [
    "# Introdução à Ciência de Dados - UFPB\n",
    "Professor: Yuri Malheiros\n",
    "\n",
    "## Python - Listas - Exercício"
   ]
  },
  {
   "cell_type": "markdown",
   "metadata": {},
   "source": [
    "Utilizando o resultado do processamento da lista de músicas, vamos implementar duas funções."
   ]
  },
  {
   "cell_type": "code",
   "execution_count": null,
   "metadata": {},
   "outputs": [],
   "source": [
    "top_10 = [\"Tones and I - Dance Monkey\", \"Lady Gaga, Ariana Grande - Rain on Me\",\n",
    "          \"Justin Bieber - Yummy\", \"MISCHO - Photon Love\", \"Dua Lipa - Break My Heart\",\n",
    "          \"Lady Gaga, BLACKPINK - Sour Candy\", \"Dua Lipa - Don't Start Now\",\n",
    "          \"Justin Bieber, Quavo - Intentions\", \"Doja Cat - Say So\",\n",
    "          \"Karol G, Nicki Minaj - Tusa\", \"Benee, Gus Dapperton - Supalonely\"]"
   ]
  },
  {
   "cell_type": "code",
   "execution_count": null,
   "metadata": {},
   "outputs": [],
   "source": [
    "top_10_dict = [{\"artist\": x.split(\" - \")[0], \"song\": x.split(\" - \")[1]} for x in top_10]\n",
    "top_10_dict"
   ]
  },
  {
   "cell_type": "markdown",
   "metadata": {},
   "source": [
    "As funções possuem um comentário de doctest que serve para testá-la. Por favor, não apague o comentário após a a definição da função.\n",
    "\n",
    "Você pode conferir se a implementação está correta executando a última célula deste notebook."
   ]
  },
  {
   "cell_type": "markdown",
   "metadata": {},
   "source": [
    "A função `get_songs` vai receber a lista `top_10_dict` como parâmetro. Escreva o código para que ela retorne uma lista com todas as músicas:"
   ]
  },
  {
   "cell_type": "code",
   "execution_count": null,
   "metadata": {},
   "outputs": [],
   "source": [
    "def get_songs(music_dict):\n",
    "    \"\"\"\n",
    "    >>> get_songs(top_10_dict)\n",
    "    ['Dance Monkey', 'Rain on Me', 'Yummy', 'Photon Love', 'Break My Heart', 'Sour Candy', \"Don't Start Now\", 'Intentions', 'Say So', 'Tusa', 'Supalonely']\n",
    "    \"\"\"\n",
    "\n",
    "    # ADICIONE O SEU CÓDIGO AQUI"
   ]
  },
  {
   "cell_type": "code",
   "execution_count": null,
   "metadata": {},
   "outputs": [],
   "source": [
    "get_songs(top_10_dict)"
   ]
  },
  {
   "cell_type": "markdown",
   "metadata": {},
   "source": [
    "A função `get_artists` vai receber a lista `top_10_dict` como parâmetro. Escreva o código para que ela retorne uma lista com todos os artistas. Atenção, algumas músicas possuem mais de um artista, eles são separados por vírgula. A função abaixo deve separar os artistas."
   ]
  },
  {
   "cell_type": "code",
   "execution_count": null,
   "metadata": {},
   "outputs": [],
   "source": [
    "def get_artists(music_dict):\n",
    "    \"\"\"\n",
    "    >>> get_artists(top_10_dict)\n",
    "    ['Tones and I', 'Lady Gaga', 'Ariana Grande', 'Justin Bieber', 'MISCHO', 'Dua Lipa', 'Lady Gaga', 'BLACKPINK', 'Dua Lipa', 'Justin Bieber', 'Quavo', 'Doja Cat', 'Karol G', 'Nicki Minaj', 'Benee', 'Gus Dapperton']\n",
    "    \"\"\"\n",
    "\n",
    "    # ADICIONE O SEU CÓDIGO AQUI    "
   ]
  },
  {
   "cell_type": "code",
   "execution_count": null,
   "metadata": {},
   "outputs": [],
   "source": [
    "get_artists(top_10_dict)"
   ]
  },
  {
   "cell_type": "markdown",
   "metadata": {},
   "source": [
    "## Teste"
   ]
  },
  {
   "cell_type": "code",
   "execution_count": null,
   "metadata": {},
   "outputs": [],
   "source": [
    "import doctest\n",
    "\n",
    "doctest.testmod(verbose=True)"
   ]
  }
 ],
 "metadata": {
  "kernelspec": {
   "display_name": "icd",
   "language": "python",
   "name": "icd"
  },
  "language_info": {
   "codemirror_mode": {
    "name": "ipython",
    "version": 3
   },
   "file_extension": ".py",
   "mimetype": "text/x-python",
   "name": "python",
   "nbconvert_exporter": "python",
   "pygments_lexer": "ipython3",
   "version": "3.7.7"
  }
 },
 "nbformat": 4,
 "nbformat_minor": 4
}
